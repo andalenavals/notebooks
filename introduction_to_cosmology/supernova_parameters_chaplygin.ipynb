{
 "cells": [
  {
   "cell_type": "markdown",
   "metadata": {},
   "source": [
    "# An example of parameters estimation using supernovas and Chaplygin gas\n"
   ]
  },
  {
   "cell_type": "markdown",
   "metadata": {},
   "source": [
    "This is just a fancy way to visualize data "
   ]
  },
  {
   "cell_type": "code",
   "execution_count": null,
   "metadata": {},
   "outputs": [],
   "source": [
    "def PrettyPrint(data):\n",
    "    from prettytable import PrettyTable\n",
    "    x = PrettyTable(data.dtype.names)    \n",
    "    for row in data:\n",
    "        x.add_row(row)\n",
    "    print(x)"
   ]
  },
  {
   "cell_type": "markdown",
   "metadata": {},
   "source": [
    "Luminosity distance is defined in  terms of an integral that depends on the cosmological parameters that want to be estimated. If we define the function $$E(z) = \\left[ (1-\\Omega_{m0}) + \\Omega_{m0}(1+z)^{3(1+\\alpha)} \\right]^{1/2(1+\\alpha)},$$ the luminosity distance is given by: $$d_{L} = \\frac{3\\times 10^{3}}{h}(1+z)\\int_{0}^{z}\\frac{dz'}{E(z')}$$"
   ]
  },
  {
   "cell_type": "code",
   "execution_count": null,
   "metadata": {},
   "outputs": [],
   "source": [
    "def Integrand(z, parameters):\n",
    "    import numpy as np\n",
    "    E =  np.power( (1 - parameters[1]) + parameters[1] * np.power(1 + z, 3*(1+parameters[2])), 0.5*(1+parameters[2]) ) \n",
    "    return 1. / E"
   ]
  },
  {
   "cell_type": "code",
   "execution_count": null,
   "metadata": {},
   "outputs": [],
   "source": [
    "def dl(z, parameters):\n",
    "    import numpy as np\n",
    "    from scipy.integrate import quad\n",
    "    I,e = quad(Integrand, 0, z,  args=(parameters))\n",
    "    return 3000 * (1 + z) * I / parameters[0]"
   ]
  },
  {
   "cell_type": "markdown",
   "metadata": {},
   "source": [
    "The module distance is the quantity that is related with the experimental data, because we do not measure distance directly. From the definitions of apparent and absolute magnitude  we have. $$\\mu = m-M = 5\\log{d_{L}}+25$$"
   ]
  },
  {
   "cell_type": "code",
   "execution_count": null,
   "metadata": {},
   "outputs": [],
   "source": [
    "def mu(dl):\n",
    "    import numpy as np\n",
    "    return 5 * np.log10(dl) + 25"
   ]
  },
  {
   "cell_type": "markdown",
   "metadata": {},
   "source": [
    "And we define our $\\chi^{2}$ test respect to this quantity. So we want to find the parameters that minimizes \n",
    "$$\\chi^{2}= \\sum \\left(\\frac{\\mu_{teo}-\\mu_{exp}}{\\sigma_{mu}}\\right)^{2} $$ "
   ]
  },
  {
   "cell_type": "code",
   "execution_count": null,
   "metadata": {},
   "outputs": [],
   "source": [
    "def chi2(mut, muobs,  sigma):\n",
    "    import numpy as np\n",
    "    aux = 0\n",
    "    for i in range(len(mut)):\n",
    "        #aux += np.power( (mut[i] - muobs[i]) / sigma[i], 2)\n",
    "        aux += np.power((mut[i] - muobs[i]), 2)/( np.power( sigma[i], 2) + 0.0169)\n",
    "    return aux"
   ]
  },
  {
   "cell_type": "markdown",
   "metadata": {},
   "source": [
    "This function performs a run with two free parameters: $h$ and $\\Omega_{m0}$. It is not optimized, so it will run over a full set of values defined uniformly for each parameter. The first three args correspond to the number of divisions, the min value and the maximum value for the range of the $h$ parameter. In the same way are defined the following three arguments."
   ]
  },
  {
   "cell_type": "code",
   "execution_count": null,
   "metadata": {},
   "outputs": [],
   "source": [
    "def runOmAlpha(steps1, minval1,  maxval1, steps2, minval2, maxval2, data,pars):\n",
    "    import numpy as np\n",
    "    import itertools as it\n",
    "    import pandas as pd\n",
    "    muobs = data['m-M']\n",
    "    sigma =  data['sigma']\n",
    "    muteo = [None] * len(muobs)\n",
    "   \n",
    "    \n",
    "    #Output data\n",
    "    keys =  [\"h\", \"Om\", \"alpha\", \"chi2\"]\n",
    "    outdata = { key : [None] for key in keys }  \n",
    "    delta1 =  (maxval1 - minval1) / steps1\n",
    "    delta2 =  (maxval2 - minval2) / steps2\n",
    "    for i, j in it.product(range(steps1),  range(steps2)) :\n",
    "        pars[1] = minval1 + delta1* i\n",
    "        pars[2] = minval2 + delta2*j\n",
    "        for k in range(len(data['z'])):\n",
    "            muteo[k] =  mu( dl(data['z'][k] ,  pars) )\n",
    "        chiaux = chi2(muteo, muobs, sigma)\n",
    "        outdata[\"h\"].append(pars[0])\n",
    "        outdata[\"Om\"].append(pars[1])\n",
    "        outdata[\"Alpha\"].append(pars[2])\n",
    "        outdata[\"chi2\"].append(chiaux)\n",
    "        #print (Omegas[0] ,\" \",Omegas[1] ,\" \",h , \" \", chiaux)\n",
    "\n",
    "    df = pd.DataFrame(outdata)\n",
    "    #print(df)\n",
    "    boolean =  (df['chi2'] == np.min(df['chi2']))\n",
    "    print ('h =', list(df.loc[boolean, 'h'])[0] ,  '\\n' )\n",
    "    print ('Omega_m =', list(df.loc[boolean, 'Om'])[0] ,  '\\n' )\n",
    "    print ('Alpha =', list(df.loc[boolean, 'alpha'])[0] ,  '\\n' )\n",
    "    print ('chi2 =', list(df.loc[boolean, 'chi2'])[0] ,  '\\n' )\n",
    "    print ('reduced_chi2 =', list(df.loc[boolean, 'chi2'])[0] / (len(data) - 2) ,  '\\n' )\n",
    " "
   ]
  },
  {
   "cell_type": "code",
   "execution_count": null,
   "metadata": {},
   "outputs": [],
   "source": [
    "import numpy as np\n",
    "data = np.loadtxt(\"Legacy.dat\",  dtype={'names': ('z', 'm-M' ,'sigma'), 'formats': ('f4', 'f4', 'f4')})\n",
    "PrettyPrint(data)"
   ]
  },
  {
   "cell_type": "code",
   "execution_count": null,
   "metadata": {},
   "outputs": [],
   "source": [
    "parameters=[0.7, None, None]\n",
    "runOmAlpha(50, 0,  1, 100,  -1, 1, data,parameters)"
   ]
  },
  {
   "cell_type": "code",
   "execution_count": null,
   "metadata": {},
   "outputs": [],
   "source": []
  }
 ],
 "metadata": {
  "kernelspec": {
   "display_name": "Python 3",
   "language": "python",
   "name": "python3"
  },
  "language_info": {
   "codemirror_mode": {
    "name": "ipython",
    "version": 3
   },
   "file_extension": ".py",
   "mimetype": "text/x-python",
   "name": "python",
   "nbconvert_exporter": "python",
   "pygments_lexer": "ipython3",
   "version": "3.6.6"
  }
 },
 "nbformat": 4,
 "nbformat_minor": 2
}
