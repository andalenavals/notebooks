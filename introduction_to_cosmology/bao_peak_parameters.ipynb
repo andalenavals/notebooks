{
 "cells": [
  {
   "cell_type": "markdown",
   "metadata": {},
   "source": [
    "# An example of parameters estimation using first BAO peak"
   ]
  },
  {
   "cell_type": "markdown",
   "metadata": {},
   "source": [
    "The early universe consisted of a hot, dense plasma of electrons and baryons (protons and neutrons). Photons (light particles) traveling in this universe were essentially trapped, unable to travel for any considerable distance before interacting with the plasma via Thomson scattering. As the universe expanded, the plasma cooled to below 3000 K—a low enough energy such that the electrons and protons in the plasma could combine to form neutral hydrogen atoms. This recombination happened when the universe was around 379,000 years old, or at a redshift of z = 1089. Photons interact to a much lesser degree with neutral matter, and therefore at recombination the universe became transparent to photons, allowing them to decouple from the matter and free-stream through the universe.\n",
    "\n",
    "Barionic acostic oscillation are standard rulers because all the gravitational wells produce the same radius in the acoustic oscillations.\n",
    "\n",
    "In general the comoving distance between a source at redshift $z$ and us is: $$\\boxed{\\chi = c\\int_{0}^{z}\\frac{d z'}{H(z')}}$$ In a euclidean universe ($k=0$) the angles $\\theta$, subtended by a standard ruler of comoving size $l_c$ is $$\\boxed{\\theta=\\frac{l_c}{\\chi}}$$\n",
    "\n",
    "Our standard ruler is the radius of the soundwave until the last scattering, this is also known as the sound horizon. And it is given by $$\\boxed{l_c=\\int^{\\infty}_{z_{ls}}  c_{s}(z)\\frac{d z'}{H(z')}}$$\n",
    "\n",
    "For an adiabatic fluid the the sound velocity is given by $$c_s^2=\\frac{\\dot{P}}{\\dot{\\rho}} = \\frac{\\frac{\\dot{\\rho_\\gamma}}{3}}{\\dot{\\rho_\\gamma}+\\dot{\\rho_b}} = \\left(3+3\\frac{\\dot{\\rho_b}}{\\dot{\\rho_\\gamma}} \\right)^{-1}$$ \n",
    "\n",
    "from the continuity equation for each component $\\dot{\\rho}+3H(\\rho + p) = 0$ we have $$\\frac{\\dot{\\rho_b}}{\\dot{\\rho_\\gamma}} = \\frac{3}{4}\\frac{\\rho_b}{\\rho_{\\gamma}} = \\frac{3}{4}\\frac{\\Omega_{b0}a^{-3}}{\\Omega_{\\gamma 0}a^{-4}} = \\frac{3}{4}\\frac{\\Omega_{b0}}{\\Omega_{\\gamma 0}(1+z)}$$ Finally, the sound velocity is given by: $$\\boxed{ \\frac{c_s}{c\n",
    "}= \\left( 3+\\frac{9}{4}\\frac{\\Omega_{b0}}{ \\Omega_{\\gamma 0}z}  \\right)^{-1/2}}$$\n",
    "\n",
    "where it has been approximated $z \\approx z+1$ since we are in the period of last scatering where $z_{ls}=1090$ .\n",
    "Is important to recall that dark matter does not interact with phothons, so that the sound speed is calculate only for a gas of barions an photons.\n",
    "\n",
    "In the practice, from measurement we know the $\\theta$ from the first peak of the CMB correlation function ($\\theta \\approx \\frac{\\pi}{l}$ ) or the first peak of the matter power spectrum. So it is convinient to write explicitly a theoretical function for this subtendent angle, i.e $$\\boxed{\\Theta = \\frac{ \\int^{\\infty}_{z_{ls}}  c_{s}(z)\\frac{d z'}{H(z')}} {c\\int_{0}^{z}\\frac{d z'}{H(z')}} = \\left[ \\int^{\\infty}_{z_{ls}}  \\frac{c_{s}(z)}{c}\\frac{d z'}{E(z')} \\right]\\left[ \\int_{0}^{z}\\frac{d z'}{E(z')}\\right]^{-1}}$$ where $$E(z) = \\sqrt{(1-\\Omega_{m0}) + \\Omega_{m0}(1+z)^{3} + \\Omega_{R0}(1+z)^{4} },$$ "
   ]
  },
  {
   "cell_type": "markdown",
   "metadata": {},
   "source": [
    "This is just a fancy way to visualize data"
   ]
  },
  {
   "cell_type": "code",
   "execution_count": 151,
   "metadata": {},
   "outputs": [],
   "source": [
    "def PrettyPrint(data):\n",
    "    from prettytable import PrettyTable\n",
    "    x = PrettyTable(data.dtype.names)    \n",
    "    for row in data:\n",
    "        x.add_row(row)\n",
    "    print(x)"
   ]
  },
  {
   "cell_type": "code",
   "execution_count": 152,
   "metadata": {},
   "outputs": [],
   "source": [
    "def sound_speed(Ob0, Og0,z):\n",
    "    import numpy as np\n",
    "    return np.power(3+(9*Ob0)/(4*Og0*z) , -0.5)"
   ]
  },
  {
   "cell_type": "code",
   "execution_count": 153,
   "metadata": {},
   "outputs": [],
   "source": [
    "def Em1(z, parameters):\n",
    "    import numpy as np\n",
    "    E =  np.sqrt( (1 - parameters[0]) + parameters[0] * np.power(1 + z, 3) + parameters[1] * np.power(1 + z, 4 ) )\n",
    "    return 1./E    "
   ]
  },
  {
   "cell_type": "code",
   "execution_count": 154,
   "metadata": {},
   "outputs": [],
   "source": [
    "def sound_integrand(z, parameters):\n",
    "    return sound_speed(parameters[2],parameters[3],z)*Em1(z,parameters)"
   ]
  },
  {
   "cell_type": "code",
   "execution_count": 155,
   "metadata": {},
   "outputs": [],
   "source": [
    "def sound_horizon(zls, parameters):\n",
    "    import numpy as np\n",
    "    from scipy.integrate import quad\n",
    "    I,e = quad(sound_integrand, zls, np.inf, args=(parameters))\n",
    "    return I"
   ]
  },
  {
   "cell_type": "code",
   "execution_count": 156,
   "metadata": {},
   "outputs": [],
   "source": [
    "def comoving_horizon(z,parameters):\n",
    "    from scipy.integrate import quad\n",
    "    I,e = quad(Em1, 0, z,  args=(parameters))\n",
    "    return I"
   ]
  },
  {
   "cell_type": "code",
   "execution_count": 157,
   "metadata": {},
   "outputs": [],
   "source": [
    "def theta_teo(z,zls, parameters):\n",
    "    return sound_horizon(zls, parameters)/comoving_horizon(z,parameters)    "
   ]
  },
  {
   "cell_type": "markdown",
   "metadata": {},
   "source": [
    "And we define our $\\chi^{2}$ test respect to this quantity. So we want to find the parameters that minimizes \n",
    "$$\\chi^{2}= \\sum \\left(\\frac{\\Theta_{teo}-\\Theta_{exp}}{\\sigma_{\\Theta}}\\right)^{2} $$ "
   ]
  },
  {
   "cell_type": "code",
   "execution_count": 158,
   "metadata": {},
   "outputs": [],
   "source": [
    "def chi2(thetat, thetaobs,  sigma):\n",
    "    import numpy as np\n",
    "    aux = 0\n",
    "    for i in range(len(thetat)):\n",
    "        aux += np.power( (thetat[i] - thetaobs[i]) / sigma[i], 2)\n",
    "    return aux"
   ]
  },
  {
   "cell_type": "code",
   "execution_count": 159,
   "metadata": {},
   "outputs": [],
   "source": [
    "def runOm(steps, minval, maxval,  data,  pars):\n",
    "    import numpy as np\n",
    "    import pandas as pd\n",
    "    thetaobs = data['theta'] * math.pi / 180.\n",
    "    sigma =  data['sigma']\n",
    "    \n",
    "    thetateo = [None] * len(thetaobs)\n",
    "    z_bao = 1060\n",
    "    #Output data\n",
    "    keys =  [\"Om\",  \"Or\", \"Ob0\", \"Og0\", \"chi2\"]\n",
    "    outdata = { key : [None] for key in keys }  \n",
    "    delta =  (maxval - minval) / steps\n",
    "    \n",
    "    for j in range(1, steps + 1):\n",
    "        pars[0] = minval + delta * j\n",
    "        for k in range(len(data['z'])):\n",
    "            thetateo[k] =  theta_teo(data['z'][k],z_bao, pars)\n",
    "        chiaux = chi2(thetateo, thetaobs, sigma)\n",
    "        outdata[\"Om\"].append(pars[0])\n",
    "        outdata[\"Or\"].append(pars[1])\n",
    "        outdata[\"Ob0\"].append(pars[2])\n",
    "        outdata[\"Og0\"].append(pars[3])\n",
    "        outdata[\"chi2\"].append(chiaux)\n",
    "        \n",
    "    df = pd.DataFrame(outdata)\n",
    "    #print(df)\n",
    "    boolean =  (df['chi2'] == np.min(df['chi2']))\n",
    "    print ('Omega_m =', list(df.loc[boolean, 'Om'])[0] ,  '\\n' )\n",
    "    print ('Omega_r =', list(df.loc[boolean, 'Or'])[0] ,  '\\n' )\n",
    "    print ('Omega_b0 =', list(df.loc[boolean, 'Ob0'])[0] ,  '\\n' )\n",
    "    print ('Omega_g0 =', list(df.loc[boolean, 'Og0'])[0] ,  '\\n' )\n",
    "    print ('chi2 =', list(df.loc[boolean, 'chi2'])[0] ,  '\\n' )\n",
    "    print ('reduced_chi2 =', list(df.loc[boolean, 'chi2'])[0] / (len(data) - 1) ,  '\\n' )"
   ]
  },
  {
   "cell_type": "code",
   "execution_count": 160,
   "metadata": {},
   "outputs": [],
   "source": [
    "def runOm_cmbpoint(steps, minval, maxval,  data,  pars):\n",
    "    import numpy as np\n",
    "    import pandas as pd\n",
    "    thetaobs = data['theta'] * math.pi / 180.\n",
    "    sigma =  data['sigma']\n",
    "    \n",
    "    #increase data table\n",
    "    thetaobs=np.append(thetaobs,math.pi/302.)\n",
    "    sigma=np.append(sigma, math.pi*0.2/(302.**2))\n",
    "    dsize=len(thetaobs)\n",
    "    \n",
    "    thetateo = [None] * len(thetaobs)\n",
    "    z_bao = 1060\n",
    "    #Output data\n",
    "    keys =  [\"Om\",  \"Or\", \"Ob0\", \"Og0\", \"chi2\"]\n",
    "    outdata = { key : [None] for key in keys }  \n",
    "    delta =  (maxval - minval) / steps\n",
    "    \n",
    "    for j in range(1, steps + 1):\n",
    "        pars[0] = minval + delta * j\n",
    "        for k in range(dsize):\n",
    "            if (k==(dsize-1)):\n",
    "                thetateo[k] =  theta_teo(1090,1090, pars)\n",
    "            else:    \n",
    "                thetateo[k] =  theta_teo(data['z'][k],z_bao, pars)\n",
    "        chiaux = chi2(thetateo, thetaobs, sigma)\n",
    "        outdata[\"Om\"].append(pars[0])\n",
    "        outdata[\"Or\"].append(pars[1])\n",
    "        outdata[\"Ob0\"].append(pars[2])\n",
    "        outdata[\"Og0\"].append(pars[3])\n",
    "        outdata[\"chi2\"].append(chiaux)\n",
    "        \n",
    "    df = pd.DataFrame(outdata)\n",
    "    #print(df)\n",
    "    boolean =  (df['chi2'] == np.min(df['chi2']))\n",
    "    print ('Omega_m =', list(df.loc[boolean, 'Om'])[0] ,  '\\n' )\n",
    "    print ('Omega_r =', list(df.loc[boolean, 'Or'])[0] ,  '\\n' )\n",
    "    print ('Omega_b0 =', list(df.loc[boolean, 'Ob0'])[0] ,  '\\n' )\n",
    "    print ('Omega_g0 =', list(df.loc[boolean, 'Og0'])[0] ,  '\\n' )\n",
    "    print ('chi2 =', list(df.loc[boolean, 'chi2'])[0] ,  '\\n' )\n",
    "    print ('reduced_chi2 =', list(df.loc[boolean, 'chi2'])[0] / (len(data) - 1) ,  '\\n' )"
   ]
  },
  {
   "cell_type": "code",
   "execution_count": 161,
   "metadata": {},
   "outputs": [
    {
     "name": "stdout",
     "output_type": "stream",
     "text": [
      "Omega_m = 0.21 \n",
      "\n",
      "Omega_r = 8.400000000000001e-05 \n",
      "\n",
      "Omega_b0 = 0.05 \n",
      "\n",
      "Omega_g0 = 5e-05 \n",
      "\n",
      "chi2 = 0.004577090566807889 \n",
      "\n",
      "reduced_chi2 = 0.00035208388975445295 \n",
      "\n"
     ]
    }
   ],
   "source": [
    "import numpy as np\n",
    "import itertools as it\n",
    "import pandas as pd\n",
    "import math\n",
    "data = np.loadtxt(\"theta_bao.dat\",  dtype={'names': ('z', 'theta' ,'sigma'), 'formats': ('f4', 'f4', 'f4')})\n",
    "\n",
    "parameters =  [None,8.4*(10**-5),0.05,5*(10**-5)]\n",
    "\n",
    "runOm(100, 0, 1,  data,  parameters)"
   ]
  },
  {
   "cell_type": "code",
   "execution_count": 162,
   "metadata": {},
   "outputs": [
    {
     "name": "stdout",
     "output_type": "stream",
     "text": [
      "Omega_m = 0.29 \n",
      "\n",
      "Omega_r = 8.400000000000001e-05 \n",
      "\n",
      "Omega_b0 = 0.05 \n",
      "\n",
      "Omega_g0 = 5e-05 \n",
      "\n",
      "chi2 = 0.6019105767425019 \n",
      "\n",
      "reduced_chi2 = 0.04630081359557707 \n",
      "\n"
     ]
    }
   ],
   "source": [
    "runOm_cmbpoint(100, 0, 1,  data,  parameters)"
   ]
  }
 ],
 "metadata": {
  "kernelspec": {
   "display_name": "Python 3",
   "language": "python",
   "name": "python3"
  },
  "language_info": {
   "codemirror_mode": {
    "name": "ipython",
    "version": 3
   },
   "file_extension": ".py",
   "mimetype": "text/x-python",
   "name": "python",
   "nbconvert_exporter": "python",
   "pygments_lexer": "ipython3",
   "version": "3.6.6"
  }
 },
 "nbformat": 4,
 "nbformat_minor": 2
}
