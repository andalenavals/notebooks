{
 "cells": [
  {
   "cell_type": "markdown",
   "metadata": {},
   "source": [
    "# An example of parameters estimation using supernovas\n"
   ]
  },
  {
   "cell_type": "markdown",
   "metadata": {},
   "source": [
    "This is just a fancy way to visualize data "
   ]
  },
  {
   "cell_type": "code",
   "execution_count": 21,
   "metadata": {},
   "outputs": [],
   "source": [
    "def PrettyPrint(data):\n",
    "    from prettytable import PrettyTable\n",
    "    x = PrettyTable(data.dtype.names)    \n",
    "    for row in data:\n",
    "        x.add_row(row)\n",
    "    print(x)"
   ]
  },
  {
   "cell_type": "markdown",
   "metadata": {},
   "source": [
    "Luminosity distance is defined in  terms of an integral that depends on the cosmological parameters that want to be estimated. If we define the function $$E(z) = \\sqrt{(1-\\Omega_{m0}) + \\Omega_{m0}(1+z)^{3} + \\Omega_{R0}(1+z)^{4} },$$ the luminosity distance is given by: $$d_{L} = \\frac{3\\times 10^{3}}{h}(1+z)\\int_{0}^{z}\\frac{dz'}{E(z')}$$"
   ]
  },
  {
   "cell_type": "code",
   "execution_count": 22,
   "metadata": {},
   "outputs": [],
   "source": [
    "def Integrand(z, Omegas):\n",
    "    import numpy as np\n",
    "    E =  np.sqrt( (1 - Omegas[0]) + Omegas[0] * np.power(1 + z, 3) + Omegas[1] * np.power(1 + z, 4 ) )\n",
    "    return 1. / E"
   ]
  },
  {
   "cell_type": "code",
   "execution_count": 23,
   "metadata": {},
   "outputs": [],
   "source": [
    "def dl(z, h, Omegas):\n",
    "    import numpy as np\n",
    "    from scipy.integrate import quad\n",
    "    I,e = quad(Integrand, 0, z,  args=(Omegas))\n",
    "    return 3000 * (1 + z) * I / h"
   ]
  },
  {
   "cell_type": "markdown",
   "metadata": {},
   "source": [
    "The module distance is the quantity that is related with the experimental data, because we do not measure distance directly. From the definitions of apparent and absolute magnitude  we have. $$\\mu = m-M = 5\\log{d_{L}}+25$$"
   ]
  },
  {
   "cell_type": "code",
   "execution_count": 24,
   "metadata": {},
   "outputs": [],
   "source": [
    "def mu(dl):\n",
    "    import numpy as np\n",
    "    return 5 * np.log10(dl) + 25"
   ]
  },
  {
   "cell_type": "markdown",
   "metadata": {},
   "source": [
    "And we define our $\\chi^{2}$ test respect to this quantity. So we want to find the parameters that minimizes \n",
    "$$\\chi^{2}= \\sum \\left(\\frac{\\mu_{teo}-\\mu_{exp}}{\\sigma_{mu}}\\right)^{2} $$ "
   ]
  },
  {
   "cell_type": "code",
   "execution_count": 25,
   "metadata": {},
   "outputs": [],
   "source": [
    "def chi2(mut, muobs,  sigma):\n",
    "    import numpy as np\n",
    "    aux = 0\n",
    "    for i in range(len(mut)):\n",
    "        #aux += np.power( (mut[i] - muobs[i]) / sigma[i], 2)\n",
    "        aux += np.power((mut[i] - muobs[i]), 2)/( np.power( sigma[i], 2) + 0.0169)\n",
    "    return aux"
   ]
  },
  {
   "cell_type": "markdown",
   "metadata": {},
   "source": [
    "This function performs a run with two free parameters: $h$ and $\\Omega_{m0}$. It is not optimized, so it will run over a full set of values defined uniformly for each parameter. The first three args correspond to the number of divisions, the min value and the maximum value for the range of the $h$ parameter. In the same way are defined the following three arguments."
   ]
  },
  {
   "cell_type": "code",
   "execution_count": 26,
   "metadata": {},
   "outputs": [],
   "source": [
    "def runhOm(steps1, minval1,  maxval1, steps2, minval2, maxval2, data):\n",
    "    import numpy as np\n",
    "    import itertools as it\n",
    "    import pandas as pd\n",
    "    muobs = data['m-M']\n",
    "    sigma =  data['sigma']\n",
    "    muteo = [None] * len(muobs)\n",
    "    h = 0\n",
    "    Omegas =  [None,None]\n",
    "    Omegas[1] = 0.000084\n",
    "    \n",
    "    #Output data\n",
    "    keys =  [\"h\", \"Om\",  \"Or\",  \"chi2\"]\n",
    "    outdata = { key : [None] for key in keys }  \n",
    "    delta1 =  (maxval1 - minval1) / steps1\n",
    "    delta2 =  (maxval2 - minval2) / steps2\n",
    "    for i, j in it.product(range(steps1),  range(steps2)) :\n",
    "        h = minval1 + delta1* i\n",
    "        Omegas[0] = minval2 + delta2*j\n",
    "        for k in range(len(data['z'])):\n",
    "            Z =  data['z'][k]\n",
    "            muteo[k] =  mu( dl(Z ,  h,  Omegas) )\n",
    "        chiaux = chi2(muteo, muobs, sigma)\n",
    "        outdata[\"h\"].append(h)\n",
    "        outdata[\"Om\"].append(Omegas[0])\n",
    "        outdata[\"Or\"].append(Omegas[1])\n",
    "        outdata[\"chi2\"].append(chiaux)\n",
    "        #print (Omegas[0] ,\" \",Omegas[1] ,\" \",h , \" \", chiaux)\n",
    "\n",
    "    df = pd.DataFrame(outdata)\n",
    "    #print(df)\n",
    "    boolean =  (df['chi2'] == np.min(df['chi2']))\n",
    "    print ('h =', list(df.loc[boolean, 'h'])[0] ,  '\\n' )\n",
    "    print ('Omega_m =', list(df.loc[boolean, 'Om'])[0] ,  '\\n' )\n",
    "    print ('Omega_r =', list(df.loc[boolean, 'Or'])[0] ,  '\\n' )\n",
    "    print ('chi2 =', list(df.loc[boolean, 'chi2'])[0] ,  '\\n' )\n",
    "    print ('reducedchi2 =', list(df.loc[boolean, 'chi2'])[0] / (len(data) - 2) ,  '\\n' )\n",
    " "
   ]
  },
  {
   "cell_type": "code",
   "execution_count": 37,
   "metadata": {},
   "outputs": [],
   "source": [
    "def CHI2(params,data):\n",
    "    muobs = data['m-M']\n",
    "    sigma = data['sigma']\n",
    "    muteo = [None] * len(muobs)\n",
    "    Omegas =[None,None]\n",
    "    h, Omegas[0], Omegas[1] = params\n",
    "    for k in range(len(data['z'])):\n",
    "        Z =  data['z'][k]\n",
    "        muteo[k] =  mu( dl(Z ,  h,  Omegas) )\n",
    "    val=chi2(muteo, muobs, sigma)\n",
    "    return val"
   ]
  },
  {
   "cell_type": "code",
   "execution_count": 38,
   "metadata": {},
   "outputs": [],
   "source": [
    "def runhOm_optimized(data):\n",
    "    import scipy.optimize as optimize\n",
    "    initial_guess = [0.7, 0.26,8.4e-5]\n",
    "    result = optimize.minimize(CHI2, initial_guess,args=(data), method='Nelder-Mead', tol=1e-6)\n",
    "    if result.success:\n",
    "        fitted_params = result.x\n",
    "        print(fitted_params)\n",
    "    else:\n",
    "        raise ValueError(result.message)"
   ]
  },
  {
   "cell_type": "markdown",
   "metadata": {},
   "source": [
    "The following two function performs the run assuming that one of the parameters is well known, whose value is the last argument"
   ]
  },
  {
   "cell_type": "code",
   "execution_count": 29,
   "metadata": {},
   "outputs": [],
   "source": [
    "def runOm(steps, minval, maxval,  data,  h):\n",
    "    import numpy as np\n",
    "    import itertools as it\n",
    "    import pandas as pd\n",
    "    muobs = data['m-M']\n",
    "    sigma =  data['sigma']\n",
    "    muteo = [None] * len(muobs)\n",
    "    Omegas =  [None,None]\n",
    "    Omegas[1] = 0.000084\n",
    "    \n",
    "    #Output data\n",
    "    keys =  [\"h\", \"Om\",  \"Or\",  \"chi2\"]\n",
    "    outdata = { key : [None] for key in keys }  \n",
    "    delta =  (maxval - minval) / steps\n",
    "    \n",
    "    for j in range(1, steps + 1):\n",
    "        Omegas[0] = minval + delta * j\n",
    "        for k in range(len(data['z'])):\n",
    "            Z =  data['z'][k]\n",
    "            muteo[k] =  mu( dl(Z ,  h,  Omegas) )\n",
    "        chiaux = chi2(muteo, muobs, sigma)\n",
    "        outdata[\"h\"].append(h)\n",
    "        outdata[\"Om\"].append(Omegas[0])\n",
    "        outdata[\"Or\"].append(Omegas[1])\n",
    "        outdata[\"chi2\"].append(chiaux)\n",
    "        #print (Omegas[0] ,\" \",Omegas[1] ,\" \",chiaux , \" \", h)\n",
    "\n",
    "    df = pd.DataFrame(outdata)\n",
    "    #print(df)\n",
    "    boolean =  (df['chi2'] == np.min(df['chi2']))\n",
    "    print ('h =', list(df.loc[boolean, 'h'])[0] ,  '\\n' )\n",
    "    print ('Omega_m =', list(df.loc[boolean, 'Om'])[0] ,  '\\n' )\n",
    "    print ('Omega_r =', list(df.loc[boolean, 'Or'])[0] ,  '\\n' )\n",
    "    print ('chi2 =', list(df.loc[boolean, 'chi2'])[0] ,  '\\n' )\n",
    "    print ('reduced_chi2 =', list(df.loc[boolean, 'chi2'])[0] / (len(data) - 1) ,  '\\n' )"
   ]
  },
  {
   "cell_type": "code",
   "execution_count": 30,
   "metadata": {},
   "outputs": [],
   "source": [
    "def runh(steps, minval, maxval,  data,  Om):\n",
    "    import numpy as np\n",
    "    import itertools as it\n",
    "    import pandas as pd\n",
    "    muobs = data['m-M']\n",
    "    sigma =  data['sigma']\n",
    "    muteo = [None] * len(muobs)\n",
    "    Omegas =  [None,None]\n",
    "    Omegas[1] = 0.000084\n",
    "    Omegas[0] =  Om  \n",
    "    #Output data\n",
    "    keys =  [\"h\", \"Om\",  \"Or\",  \"chi2\"]\n",
    "    outdata = { key : [None] for key in keys }\n",
    "    delta =  (maxval - minval) / steps\n",
    "    for i in range(1, steps + 1):\n",
    "        h = minval + delta * i     \n",
    "        for k in range(len(data['z'])):\n",
    "            Z =  data['z'][k]\n",
    "            muteo[k] =  mu( dl(Z ,  h,  Omegas) )\n",
    "        chiaux = chi2(muteo, muobs, sigma)\n",
    "        outdata[\"h\"].append(h)\n",
    "        outdata[\"Om\"].append(Omegas[0])\n",
    "        outdata[\"Or\"].append(Omegas[1])\n",
    "        outdata[\"chi2\"].append(chiaux)\n",
    "        #print (Omegas[0] ,\" \",Omegas[1] ,\" \",chiaux , \" \", h)\n",
    "\n",
    "    df = pd.DataFrame(outdata)\n",
    "    #print(df)\n",
    "    boolean =  (df['chi2'] == np.min(df['chi2']))\n",
    "    print ('\\n', 'h =', list(df.loc[boolean, 'h'])[0] ,  '\\n' )\n",
    "    print ('Omega_m =', list(df.loc[boolean, 'Om'])[0] ,  '\\n' )\n",
    "    print ('Omega_r =', list(df.loc[boolean, 'Or'])[0] ,  '\\n' )\n",
    "    print ('chi2 =', list(df.loc[boolean, 'chi2'])[0] ,  '\\n' )\n",
    "    print ('reduces_chi2 =', list(df.loc[boolean, 'chi2'])[0] / (len(data) - 1) ,  '\\n' )\n",
    "  "
   ]
  },
  {
   "cell_type": "code",
   "execution_count": 31,
   "metadata": {},
   "outputs": [],
   "source": [
    "import numpy as np\n",
    "data = np.loadtxt(\"Legacy.dat\",  dtype={'names': ('z', 'm-M' ,'sigma'), 'formats': ('f4', 'f4', 'f4')})\n",
    "#PrettyPrint(data)\n"
   ]
  },
  {
   "cell_type": "code",
   "execution_count": 39,
   "metadata": {},
   "outputs": [
    {
     "name": "stdout",
     "output_type": "stream",
     "text": [
      "h = 0.7 \n",
      "\n",
      "Omega_m = 0.26 \n",
      "\n",
      "Omega_r = 8.4e-05 \n",
      "\n",
      "chi2 = 113.62481604325289 \n",
      "\n",
      "reducedchi2 = 1.0055293455155123 \n",
      "\n"
     ]
    }
   ],
   "source": [
    "runhOm(50, 0.5,  1, 100,  0, 1, data)"
   ]
  },
  {
   "cell_type": "code",
   "execution_count": 40,
   "metadata": {},
   "outputs": [
    {
     "name": "stdout",
     "output_type": "stream",
     "text": [
      "[0.67367838 0.13632146 0.08696408]\n"
     ]
    }
   ],
   "source": [
    "runhOm_optimized(data)"
   ]
  },
  {
   "cell_type": "code",
   "execution_count": null,
   "metadata": {},
   "outputs": [],
   "source": [
    "runOm(100,0, 1,  data, 0.73 )"
   ]
  },
  {
   "cell_type": "code",
   "execution_count": null,
   "metadata": {},
   "outputs": [],
   "source": [
    "runh(100,0.5, 1,  data, 0.26 )"
   ]
  },
  {
   "cell_type": "code",
   "execution_count": null,
   "metadata": {},
   "outputs": [],
   "source": []
  }
 ],
 "metadata": {
  "kernelspec": {
   "display_name": "Python 3",
   "language": "python",
   "name": "python3"
  },
  "language_info": {
   "codemirror_mode": {
    "name": "ipython",
    "version": 3
   },
   "file_extension": ".py",
   "mimetype": "text/x-python",
   "name": "python",
   "nbconvert_exporter": "python",
   "pygments_lexer": "ipython3",
   "version": "3.7.2"
  }
 },
 "nbformat": 4,
 "nbformat_minor": 2
}
