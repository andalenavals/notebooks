{
 "cells": [
  {
   "cell_type": "markdown",
   "metadata": {},
   "source": [
    "# An example of parameters estimation using supernovas\n"
   ]
  },
  {
   "cell_type": "markdown",
   "metadata": {},
   "source": [
    "This is just a fancy way to visualize data "
   ]
  },
  {
   "cell_type": "code",
   "execution_count": 1,
   "metadata": {},
   "outputs": [],
   "source": [
    "def PrettyPrint(data):\n",
    "    from prettytable import PrettyTable\n",
    "    x = PrettyTable(data.dtype.names)    \n",
    "    for row in data:\n",
    "        x.add_row(row)\n",
    "    print(x)"
   ]
  },
  {
   "cell_type": "markdown",
   "metadata": {},
   "source": [
    "Luminosity distance is defined in  terms of an integral that depends on the cosmological parameters that want to be estimated. If we define the function $$E(z) = \\sqrt{(1-\\Omega_{m0}) + \\Omega_{m0}(1+z)^{3} + \\Omega_{R0}(1+z)^{4} },$$ the luminosity distance is given by: $$d_{L} = \\frac{3\\times 10^{3}}{h}(1+z)\\int_{0}^{z}\\frac{dz'}{E(z')}$$"
   ]
  },
  {
   "cell_type": "code",
   "execution_count": 2,
   "metadata": {},
   "outputs": [],
   "source": [
    "def Integrand(z, Omegas):\n",
    "    import numpy as np\n",
    "    E =  np.sqrt( (1 - Omegas[0]) + Omegas[0] * np.power(1 + z, 3) + Omegas[1] * np.power(1 + z, 4 ) )\n",
    "    return 1. / E"
   ]
  },
  {
   "cell_type": "code",
   "execution_count": 3,
   "metadata": {},
   "outputs": [],
   "source": [
    "def dl(z, h, Omegas):\n",
    "    import numpy as np\n",
    "    from scipy.integrate import quad\n",
    "    I,e = quad(Integrand, 0, z,  args=(Omegas))\n",
    "    return 3000 * (1 + z) * I / h"
   ]
  },
  {
   "cell_type": "markdown",
   "metadata": {},
   "source": [
    "The module distance is the quantity that is related with the experimental data, because we do not measure distance directly. From the definitions of apparent and absolute magnitude  we have. $$\\mu = m-M = 5\\log{d_{L}}+25$$"
   ]
  },
  {
   "cell_type": "code",
   "execution_count": 4,
   "metadata": {},
   "outputs": [],
   "source": [
    "def mu(dl):\n",
    "    import numpy as np\n",
    "    return 5 * np.log10(dl) + 25"
   ]
  },
  {
   "cell_type": "markdown",
   "metadata": {},
   "source": [
    "And we define our $\\chi^{2}$ test respect to this quantity. So we want to find the parameters that minimizes \n",
    "$$\\chi^{2}= \\sum \\left(\\frac{\\mu_{teo}-\\mu_{exp}}{\\sigma_{mu}}\\right)^{2} $$ "
   ]
  },
  {
   "cell_type": "code",
   "execution_count": 5,
   "metadata": {},
   "outputs": [],
   "source": [
    "def chi2(mut, muobs,  sigma):\n",
    "    import numpy as np\n",
    "    aux = 0\n",
    "    for i in range(len(mut)):\n",
    "        #aux += np.power( (mut[i] - muobs[i]) / sigma[i], 2)\n",
    "        aux += np.power((mut[i] - muobs[i]), 2)/( np.power( sigma[i], 2) + 0.0169)\n",
    "    return aux"
   ]
  },
  {
   "cell_type": "markdown",
   "metadata": {},
   "source": [
    "This function performs a run with two free parameters: $h$ and $\\Omega_{m0}$. It is not optimized, so it will run over a full set of values defined uniformly for each parameter. The first three args correspond to the number of divisions, the min value and the maximum value for the range of the $h$ parameter. In the same way are defined the following three arguments."
   ]
  },
  {
   "cell_type": "code",
   "execution_count": 6,
   "metadata": {},
   "outputs": [],
   "source": [
    "def runhOm(steps1, minval1,  maxval1, steps2, minval2, maxval2, data):\n",
    "    import numpy as np\n",
    "    import itertools as it\n",
    "    import pandas as pd\n",
    "    muobs = data['m-M']\n",
    "    sigma =  data['sigma']\n",
    "    muteo = [None] * len(muobs)\n",
    "    h = 0\n",
    "    Omegas =  [None,None]\n",
    "    Omegas[1] = 0.000084\n",
    "    \n",
    "    #Output data\n",
    "    keys =  [\"h\", \"Om\",  \"Or\",  \"chi2\"]\n",
    "    outdata = { key : [None] for key in keys }  \n",
    "    delta1 =  (maxval1 - minval1) / steps1\n",
    "    delta2 =  (maxval2 - minval2) / steps2\n",
    "    for i, j in it.product(range(steps1),  range(steps2)) :\n",
    "        h = minval1 + delta1* i\n",
    "        Omegas[0] = minval2 + delta2*j\n",
    "        for k in range(len(data['z'])):\n",
    "            Z =  data['z'][k]\n",
    "            muteo[k] =  mu( dl(Z ,  h,  Omegas) )\n",
    "        chiaux = chi2(muteo, muobs, sigma)\n",
    "        outdata[\"h\"].append(h)\n",
    "        outdata[\"Om\"].append(Omegas[0])\n",
    "        outdata[\"Or\"].append(Omegas[1])\n",
    "        outdata[\"chi2\"].append(chiaux)\n",
    "        #print (Omegas[0] ,\" \",Omegas[1] ,\" \",h , \" \", chiaux)\n",
    "\n",
    "    df = pd.DataFrame(outdata)\n",
    "    #print(df)\n",
    "    boolean =  (df['chi2'] == np.min(df['chi2']))\n",
    "    print ('h =', list(df.loc[boolean, 'h'])[0] ,  '\\n' )\n",
    "    print ('Omega_m =', list(df.loc[boolean, 'Om'])[0] ,  '\\n' )\n",
    "    print ('Omega_r =', list(df.loc[boolean, 'Or'])[0] ,  '\\n' )\n",
    "    print ('chi2 =', list(df.loc[boolean, 'chi2'])[0] ,  '\\n' )\n",
    "    print ('reducedchi2 =', list(df.loc[boolean, 'chi2'])[0] / (len(data) - 2) ,  '\\n' )\n",
    " "
   ]
  },
  {
   "cell_type": "markdown",
   "metadata": {},
   "source": [
    "The following two function performs the run assuming that one of the parameters is well known, whose value is the last argument"
   ]
  },
  {
   "cell_type": "code",
   "execution_count": 7,
   "metadata": {},
   "outputs": [],
   "source": [
    "def runOm(steps, minval, maxval,  data,  h):\n",
    "    import numpy as np\n",
    "    import itertools as it\n",
    "    import pandas as pd\n",
    "    muobs = data['m-M']\n",
    "    sigma =  data['sigma']\n",
    "    muteo = [None] * len(muobs)\n",
    "    Omegas =  [None,None]\n",
    "    Omegas[1] = 0.000084\n",
    "    \n",
    "    #Output data\n",
    "    keys =  [\"h\", \"Om\",  \"Or\",  \"chi2\"]\n",
    "    outdata = { key : [None] for key in keys }  \n",
    "    delta =  (maxval - minval) / steps\n",
    "    \n",
    "    for j in range(1, steps + 1):\n",
    "        Omegas[0] = minval + delta * j\n",
    "        for k in range(len(data['z'])):\n",
    "            Z =  data['z'][k]\n",
    "            muteo[k] =  mu( dl(Z ,  h,  Omegas) )\n",
    "        chiaux = chi2(muteo, muobs, sigma)\n",
    "        outdata[\"h\"].append(h)\n",
    "        outdata[\"Om\"].append(Omegas[0])\n",
    "        outdata[\"Or\"].append(Omegas[1])\n",
    "        outdata[\"chi2\"].append(chiaux)\n",
    "        #print (Omegas[0] ,\" \",Omegas[1] ,\" \",chiaux , \" \", h)\n",
    "\n",
    "    df = pd.DataFrame(outdata)\n",
    "    #print(df)\n",
    "    boolean =  (df['chi2'] == np.min(df['chi2']))\n",
    "    print ('h =', list(df.loc[boolean, 'h'])[0] ,  '\\n' )\n",
    "    print ('Omega_m =', list(df.loc[boolean, 'Om'])[0] ,  '\\n' )\n",
    "    print ('Omega_r =', list(df.loc[boolean, 'Or'])[0] ,  '\\n' )\n",
    "    print ('chi2 =', list(df.loc[boolean, 'chi2'])[0] ,  '\\n' )\n",
    "    print ('reduced_chi2 =', list(df.loc[boolean, 'chi2'])[0] / (len(data) - 1) ,  '\\n' )"
   ]
  },
  {
   "cell_type": "code",
   "execution_count": 8,
   "metadata": {},
   "outputs": [],
   "source": [
    "def runh(steps, minval, maxval,  data,  Om):\n",
    "    import numpy as np\n",
    "    import itertools as it\n",
    "    import pandas as pd\n",
    "    muobs = data['m-M']\n",
    "    sigma =  data['sigma']\n",
    "    muteo = [None] * len(muobs)\n",
    "    Omegas =  [None,None]\n",
    "    Omegas[1] = 0.000084\n",
    "    Omegas[0] =  Om  \n",
    "    #Output data\n",
    "    keys =  [\"h\", \"Om\",  \"Or\",  \"chi2\"]\n",
    "    outdata = { key : [None] for key in keys }\n",
    "    delta =  (maxval - minval) / steps\n",
    "    for i in range(1, steps + 1):\n",
    "        h = minval + delta * i     \n",
    "        for k in range(len(data['z'])):\n",
    "            Z =  data['z'][k]\n",
    "            muteo[k] =  mu( dl(Z ,  h,  Omegas) )\n",
    "        chiaux = chi2(muteo, muobs, sigma)\n",
    "        outdata[\"h\"].append(h)\n",
    "        outdata[\"Om\"].append(Omegas[0])\n",
    "        outdata[\"Or\"].append(Omegas[1])\n",
    "        outdata[\"chi2\"].append(chiaux)\n",
    "        #print (Omegas[0] ,\" \",Omegas[1] ,\" \",chiaux , \" \", h)\n",
    "\n",
    "    df = pd.DataFrame(outdata)\n",
    "    #print(df)\n",
    "    boolean =  (df['chi2'] == np.min(df['chi2']))\n",
    "    print ('\\n', 'h =', list(df.loc[boolean, 'h'])[0] ,  '\\n' )\n",
    "    print ('Omega_m =', list(df.loc[boolean, 'Om'])[0] ,  '\\n' )\n",
    "    print ('Omega_r =', list(df.loc[boolean, 'Or'])[0] ,  '\\n' )\n",
    "    print ('chi2 =', list(df.loc[boolean, 'chi2'])[0] ,  '\\n' )\n",
    "    print ('reduces_chi2 =', list(df.loc[boolean, 'chi2'])[0] / (len(data) - 1) ,  '\\n' )\n",
    "  "
   ]
  },
  {
   "cell_type": "code",
   "execution_count": 9,
   "metadata": {},
   "outputs": [
    {
     "name": "stdout",
     "output_type": "stream",
     "text": [
      "+-------+--------+-------+\n",
      "|   z   |  m-M   | sigma |\n",
      "+-------+--------+-------+\n",
      "|  0.05 | 36.632 | 0.045 |\n",
      "| 0.031 | 35.532 | 0.091 |\n",
      "| 0.075 | 37.642 | 0.049 |\n",
      "| 0.026 | 35.353 | 0.094 |\n",
      "| 0.101 | 38.437 | 0.055 |\n",
      "|  0.02 | 34.494 | 0.111 |\n",
      "| 0.045 | 36.728 | 0.057 |\n",
      "| 0.043 | 36.276 | 0.059 |\n",
      "| 0.018 | 34.576 | 0.121 |\n",
      "| 0.079 | 37.465 | 0.041 |\n",
      "| 0.088 | 38.121 | 0.046 |\n",
      "| 0.063 | 37.54  | 0.046 |\n",
      "| 0.026 | 35.565 | 0.141 |\n",
      "|  0.05 | 36.827 |  0.06 |\n",
      "| 0.071 | 37.604 | 0.048 |\n",
      "| 0.025 | 35.192 | 0.092 |\n",
      "| 0.053 | 36.794 | 0.047 |\n",
      "| 0.024 | 35.228 | 0.094 |\n",
      "| 0.016 | 34.071 | 0.146 |\n",
      "| 0.049 | 36.383 | 0.051 |\n",
      "| 0.016 | 34.083 | 0.138 |\n",
      "| 0.125 | 38.885 | 0.049 |\n",
      "| 0.035 | 35.837 | 0.069 |\n",
      "| 0.016 | 34.405 | 0.133 |\n",
      "| 0.017 | 34.319 | 0.133 |\n",
      "|  0.03 | 35.822 |  0.21 |\n",
      "|  0.03 | 35.994 |  0.08 |\n",
      "| 0.017 | 34.452 | 0.136 |\n",
      "| 0.028 | 35.15  | 0.079 |\n",
      "| 0.054 | 36.606 | 0.054 |\n",
      "| 0.024 | 35.25  | 0.102 |\n",
      "| 0.017 | 34.216 | 0.128 |\n",
      "| 0.039 | 36.284 | 0.057 |\n",
      "| 0.032 | 35.789 | 0.074 |\n",
      "| 0.018 | 34.489 | 0.124 |\n",
      "| 0.026 | 35.342 | 0.084 |\n",
      "| 0.025 | 34.931 | 0.091 |\n",
      "| 0.036 | 36.113 | 0.066 |\n",
      "| 0.023 | 35.146 | 0.094 |\n",
      "| 0.016 | 34.129 | 0.133 |\n",
      "| 0.022 | 34.941 | 0.101 |\n",
      "| 0.031 | 35.558 | 0.075 |\n",
      "| 0.015 | 34.118 | 0.142 |\n",
      "| 0.017 | 34.162 | 0.127 |\n",
      "| 0.504 | 42.429 | 0.039 |\n",
      "| 0.582 | 42.881 | 0.054 |\n",
      "| 0.496 | 42.18  | 0.038 |\n",
      "| 0.346 | 41.367 | 0.021 |\n",
      "|  0.87 | 44.095 | 0.301 |\n",
      "| 0.679 | 43.398 | 0.088 |\n",
      "| 0.868 | 43.871 | 0.344 |\n",
      "| 0.331 | 40.946 | 0.013 |\n",
      "| 0.688 | 43.046 | 0.049 |\n",
      "|  0.8  | 43.49  |  0.09 |\n",
      "| 0.548 | 42.825 |  0.08 |\n",
      "| 0.532 | 42.592 | 0.083 |\n",
      "| 0.449 | 41.866 | 0.044 |\n",
      "| 0.371 | 41.488 |  0.03 |\n",
      "| 0.291 | 40.999 | 0.033 |\n",
      "| 0.249 | 40.571 |  0.02 |\n",
      "| 0.463 | 42.089 | 0.034 |\n",
      "| 0.461 | 42.031 | 0.058 |\n",
      "| 0.285 | 40.731 | 0.015 |\n",
      "| 0.633 | 43.133 | 0.064 |\n",
      "| 0.818 | 43.532 | 0.304 |\n",
      "| 0.949 | 43.507 | 0.272 |\n",
      "| 0.927 | 44.553 |  0.38 |\n",
      "| 0.695 | 43.023 | 0.086 |\n",
      "| 0.627 | 42.746 | 0.035 |\n",
      "| 0.905 | 43.708 | 0.258 |\n",
      "| 0.604 | 42.515 | 0.029 |\n",
      "| 0.791 | 43.353 | 0.076 |\n",
      "| 0.581 | 42.761 | 0.047 |\n",
      "| 0.592 | 42.562 |  0.09 |\n",
      "| 0.571 | 42.465 |  0.07 |\n",
      "| 0.557 | 42.511 | 0.029 |\n",
      "| 0.721 | 43.209 | 0.106 |\n",
      "| 0.526 | 42.644 | 0.055 |\n",
      "| 0.369 | 41.485 | 0.016 |\n",
      "| 0.415 | 41.772 | 0.027 |\n",
      "| 0.357 | 41.441 | 0.018 |\n",
      "|  0.43 | 41.776 | 0.038 |\n",
      "| 0.521 | 42.439 | 0.054 |\n",
      "| 0.707 | 43.237 | 0.129 |\n",
      "| 0.691 | 43.144 | 0.136 |\n",
      "| 0.741 | 43.427 | 0.117 |\n",
      "|  0.62 | 43.03  |  0.06 |\n",
      "|  0.83 | 44.414 | 0.347 |\n",
      "| 0.643 | 43.023 | 0.059 |\n",
      "|  1.01 | 44.673 | 0.533 |\n",
      "|  0.47 | 42.268 | 0.032 |\n",
      "|  0.61 | 42.796 | 0.039 |\n",
      "| 0.263 | 40.682 | 0.013 |\n",
      "| 0.358 | 41.474 | 0.013 |\n",
      "|  0.73 | 43.287 | 0.075 |\n",
      "| 0.451 | 42.038 |  0.03 |\n",
      "|  0.91 | 44.259 | 0.346 |\n",
      "| 0.552 | 42.461 | 0.035 |\n",
      "|  0.71 | 43.176 | 0.077 |\n",
      "|  0.93 | 44.43  |  0.43 |\n",
      "| 0.337 | 41.259 |  0.01 |\n",
      "| 0.752 | 43.17  |  0.09 |\n",
      "| 0.983 | 43.941 | 0.496 |\n",
      "| 0.822 | 43.544 | 0.218 |\n",
      "|  0.95 | 43.954 | 0.268 |\n",
      "| 0.817 | 43.652 | 0.254 |\n",
      "|  0.34 | 41.323 | 0.012 |\n",
      "|  0.96 | 43.622 | 0.234 |\n",
      "|  0.81 | 43.691 | 0.301 |\n",
      "| 0.756 | 43.453 | 0.058 |\n",
      "| 0.613 | 42.961 | 0.061 |\n",
      "|  0.84 | 43.475 | 0.185 |\n",
      "|  0.55 | 42.487 | 0.056 |\n",
      "| 0.811 | 43.95  | 0.264 |\n",
      "| 0.961 |  44.0  |  0.29 |\n",
      "+-------+--------+-------+\n"
     ]
    }
   ],
   "source": [
    "import numpy as np\n",
    "data = np.loadtxt(\"Legacy.dat\",  dtype={'names': ('z', 'm-M' ,'sigma'), 'formats': ('f4', 'f4', 'f4')})\n",
    "PrettyPrint(data)\n"
   ]
  },
  {
   "cell_type": "code",
   "execution_count": 10,
   "metadata": {},
   "outputs": [
    {
     "name": "stdout",
     "output_type": "stream",
     "text": [
      "h = 0.7 \n",
      "\n",
      "Omega_m = 0.26 \n",
      "\n",
      "Omega_r = 8.4e-05 \n",
      "\n",
      "chi2 = 113.62481604325289 \n",
      "\n",
      "reducedchi2 = 1.0055293455155123 \n",
      "\n"
     ]
    }
   ],
   "source": [
    "runhOm(50, 0.5,  1, 100,  0, 1, data)"
   ]
  },
  {
   "cell_type": "code",
   "execution_count": 11,
   "metadata": {},
   "outputs": [
    {
     "name": "stdout",
     "output_type": "stream",
     "text": [
      "h = 0.73 \n",
      "\n",
      "Omega_m = 0.17 \n",
      "\n",
      "Omega_r = 8.4e-05 \n",
      "\n",
      "chi2 = 127.11289623365542 \n",
      "\n",
      "reduced_chi2 = 1.1150254055583808 \n",
      "\n"
     ]
    }
   ],
   "source": [
    "runOm(100,0, 1,  data, 0.73 )"
   ]
  },
  {
   "cell_type": "code",
   "execution_count": 12,
   "metadata": {},
   "outputs": [
    {
     "name": "stdout",
     "output_type": "stream",
     "text": [
      "\n",
      " h = 0.7 \n",
      "\n",
      "Omega_m = 0.26 \n",
      "\n",
      "Omega_r = 8.4e-05 \n",
      "\n",
      "chi2 = 113.62481604325289 \n",
      "\n",
      "reduces_chi2 = 0.9967089126601131 \n",
      "\n"
     ]
    }
   ],
   "source": [
    "runh(100,0.5, 1,  data, 0.26 )"
   ]
  },
  {
   "cell_type": "code",
   "execution_count": null,
   "metadata": {},
   "outputs": [],
   "source": []
  }
 ],
 "metadata": {
  "kernelspec": {
   "display_name": "Python 3",
   "language": "python",
   "name": "python3"
  },
  "language_info": {
   "codemirror_mode": {
    "name": "ipython",
    "version": 3
   },
   "file_extension": ".py",
   "mimetype": "text/x-python",
   "name": "python",
   "nbconvert_exporter": "python",
   "pygments_lexer": "ipython3",
   "version": "3.6.6"
  }
 },
 "nbformat": 4,
 "nbformat_minor": 2
}
