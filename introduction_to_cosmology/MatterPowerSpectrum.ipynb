{
 "cells": [
  {
   "cell_type": "code",
   "execution_count": 4,
   "metadata": {},
   "outputs": [
    {
     "name": "stdout",
     "output_type": "stream",
     "text": [
      "[73.0, 0, 0.24, 3.0517578125e-05]\n"
     ]
    }
   ],
   "source": [
    "from scipy.integrate import odeint\n",
    "\n",
    "def Hubble(a, pars):\n",
    "    import numpy as np\n",
    "    H0=pars[0]    \n",
    "    O_k=pars[1]\n",
    "    O_m=pars[2]\n",
    "    O_r=pars[3]\n",
    "    H = H0*np.sqrt( O_m*(a**-3) + O_r*(a**-4) +O_k*(a**-2)+ (1-O_m-O_r-O_k)  )\n",
    "    return H\n",
    "\n",
    "def System(y,t, a, pars):\n",
    "    theta_m, delta_m, theta_r, delta_r = y\n",
    "    dydt=[-a*Hubble(a,pars)*theta_m-0.5*(a**2)*() ]\n",
    "    return dydt\n",
    "\n",
    "Ok=0\n",
    "Om=0.24\n",
    "Or=8**-5\n",
    "h=0.73\n",
    "\n",
    "H0=100*h\n",
    "Omegas=[Ok,Om,Or]\n",
    "pars=[H0]+Omegas\n",
    "print(pars)"
   ]
  },
  {
   "cell_type": "code",
   "execution_count": null,
   "metadata": {},
   "outputs": [],
   "source": []
  }
 ],
 "metadata": {
  "kernelspec": {
   "display_name": "Python 3",
   "language": "python",
   "name": "python3"
  },
  "language_info": {
   "codemirror_mode": {
    "name": "ipython",
    "version": 3
   },
   "file_extension": ".py",
   "mimetype": "text/x-python",
   "name": "python",
   "nbconvert_exporter": "python",
   "pygments_lexer": "ipython3",
   "version": "3.7.0"
  }
 },
 "nbformat": 4,
 "nbformat_minor": 2
}
