{
 "cells": [
  {
   "cell_type": "markdown",
   "metadata": {},
   "source": [
    "# Y3-A1-v29 TESTS"
   ]
  },
  {
   "cell_type": "code",
   "execution_count": 1,
   "metadata": {},
   "outputs": [],
   "source": [
    "def plotRaDec2D(filename, field, title, cmap_name, markersize): \n",
    "    import fitsio\n",
    "    import matplotlib\n",
    "    import matplotlib.pyplot as plt\n",
    "    from astropy.coordinates import SkyCoord\n",
    "    from astropy import units\n",
    "    import numpy as np\n",
    "    from matplotlib.colors import LogNorm\n",
    "    %matplotlib inline\n",
    "    \n",
    "    data = fitsio.read(filename)\n",
    "    data = data.astype(data.dtype.newbyteorder('='))\n",
    "    \n",
    "    data1 = data[data[field]>0]\n",
    "    coords = SkyCoord(ra=data1['telra'], dec=data1['teldec'], unit='degree')\n",
    "    ra = coords.ra.wrap_at(180 * units.deg)\n",
    "    #ra = coords.ra.radian\n",
    "    dec = coords.dec\n",
    "    rho2p = data1[field]\n",
    "\n",
    "    data2 = data[data[field]<0]\n",
    "    coords2 = SkyCoord(ra=data2['telra'], dec=data2['teldec'], unit='degree')\n",
    "    ra2 = coords2.ra.wrap_at(180 * units.deg)\n",
    "    #ra = coords.ra.radian\n",
    "    dec2 = coords2.dec \n",
    "    mdatan = [ -x for x in data2[field]]\n",
    "\n",
    "    fig = plt.figure(figsize=(10,6))\n",
    "\n",
    "    sct = plt.scatter(ra, dec, s=markersize, marker='s' , cmap=cmap_name, c=rho2p, norm=LogNorm( vmin=np.nanmin(rho2p), vmax=np.nanmax(rho2p))  )\n",
    "    plt.scatter(ra2, dec2, s=markersize, marker='p' , cmap=cmap_name, c=mdatan, norm=LogNorm( vmin=np.nanmin(rho2p), vmax=np.nanmax(rho2p))   )\n",
    "   \n",
    "    plt.colorbar(sct)\n",
    "    plt.xlabel('R.A')\n",
    "    plt.ylabel('DEC')\n",
    "    plt.title(title)\n",
    "    plt.show()"
   ]
  },
  {
   "cell_type": "code",
   "execution_count": 2,
   "metadata": {},
   "outputs": [],
   "source": [
    "def plotScatter(filename, field, xtitle, ytitle, title, xlog=False, ylog=True, grid=True):\n",
    "    import fitsio\n",
    "    import matplotlib \n",
    "    import matplotlib.pyplot as plt\n",
    "    from astropy.coordinates import SkyCoord\n",
    "    from astropy import units\n",
    "    import numpy as np\n",
    "    %matplotlib inline\n",
    "\n",
    "    data = fitsio.read(filename)\n",
    "    data = data.astype(data.dtype.newbyteorder('='))\n",
    "    \n",
    "    ignore =  (data[field] ==-999.) |  (data[field] == None) | ( np.isnan(data[field])) \n",
    "    data = data[~ignore]\n",
    "    datap = data[(data['mrho2p']>0)]\n",
    "    datan = data[(data['mrho2p']<0)]\n",
    "    mdatan = [ -x for x in datan['mrho2p']]\n",
    "\n",
    "    plt.figure(figsize=(10,6))\n",
    "    plt.plot( datap[field] , datap['mrho2p'] , color='blue', marker= 'o',  markersize=5,  linewidth=0 )\n",
    "    plt.plot( datan[field] , mdatan  , color='black', marker= 'o',  markersize=5,  linewidth=0 )\n",
    "\n",
    "    if(ylog):\n",
    "        plt.yscale('log')\n",
    "    if(xlog):\n",
    "        plt.xscale('log')\n",
    "    if(grid): \n",
    "        plt.grid()\n",
    "    plt.xlabel(xtitle)\n",
    "    plt.ylabel(ytitle)\n",
    "    plt.title(title)    "
   ]
  },
  {
   "cell_type": "code",
   "execution_count": 3,
   "metadata": {},
   "outputs": [],
   "source": [
    "def ccd_llcoordinates():\n",
    "    import numpy\n",
    "\n",
    "    # Centers of chips in focal plane coordinates\n",
    "    N7=[\"N7\",16.908,191.670]\n",
    "    N6=[\"N6\",16.908,127.780]\n",
    "    N5=[\"N5\",16.908,63.890]\n",
    "    N4=[\"N4\",16.908,0.]\n",
    "    N3=[\"N3\",16.908,-63.890]\n",
    "    N2=[\"N2\",16.908,-127.780]\n",
    "    N1=[\"N1\",16.908,-191.670]\n",
    "\n",
    "    N13=[\"N13\",50.724,159.725]\n",
    "    N12=[\"N12\",50.724,95.835]\n",
    "    N11=[\"N11\",50.724,31.945]\n",
    "    N10=[\"N10\",50.724,-31.945]\n",
    "    N9=[\"N9\",50.724,-95.835]\n",
    "    N8=[\"N8\",50.724,-159.725]\n",
    "\n",
    "    N19=[\"N19\",84.540,159.725]\n",
    "    N18=[\"N18\",84.540,95.835]\n",
    "    N17=[\"N17\",84.540,31.945]\n",
    "    N16=[\"N16\",84.540,-31.945]\n",
    "    N15=[\"N15\",84.540,-95.835]\n",
    "    N14=[\"N14\",84.540,-159.725]\n",
    "\n",
    "    N24=[\"N24\",118.356,127.780]\n",
    "    N23=[\"N23\",118.356,63.890]\n",
    "    N22=[\"N22\",118.356,0.]\n",
    "    N21=[\"N21\",118.356,-63.890]\n",
    "    N20=[\"N20\",118.356,-127.780]\n",
    "\n",
    "    N28=[\"N28\",152.172,95.835]\n",
    "    N27=[\"N27\",152.172,31.945]\n",
    "    N26=[\"N26\",152.172,-31.945]\n",
    "    N25=[\"N25\",152.172,-95.835]\n",
    "\n",
    "    N31=[\"N31\",185.988,63.890]\n",
    "    N30=[\"N30\",185.988,0.]\n",
    "    N29=[\"N29\",185.988,-63.890]\n",
    "\n",
    "    S7=[\"S7\",-16.908,191.670]\n",
    "    S6=[\"S6\",-16.908,127.780]\n",
    "    S5=[\"S5\",-16.908,63.890]\n",
    "    S4=[\"S4\",-16.908,0.]\n",
    "    S3=[\"S3\",-16.908,-63.890]\n",
    "    S2=[\"S2\",-16.908,-127.780]\n",
    "    S1=[\"S1\",-16.908,-191.670]\n",
    "\n",
    "    S13=[\"S13\",-50.724,159.725]\n",
    "    S12=[\"S12\",-50.724,95.835]\n",
    "    S11=[\"S11\",-50.724,31.945]\n",
    "    S10=[\"S10\",-50.724,-31.945]\n",
    "    S9=[\"S9\",-50.724,-95.835]\n",
    "    S8=[\"S8\",-50.724,-159.725]\n",
    "\n",
    "    S19=[\"S19\",-84.540,159.725]\n",
    "    S18=[\"S18\",-84.540,95.835]\n",
    "    S17=[\"S17\",-84.540,31.945]\n",
    "    S16=[\"S16\",-84.540,-31.945]\n",
    "    S15=[\"S15\",-84.540,-95.835]\n",
    "    S14=[\"S14\",-84.540,-159.725]\n",
    "\n",
    "    S24=[\"S24\",-118.356,127.780]\n",
    "    S23=[\"S23\",-118.356,63.890]\n",
    "    S22=[\"S22\",-118.356,0.]\n",
    "    S21=[\"S21\",-118.356,-63.890]\n",
    "    S20=[\"S20\",-118.356,-127.780]\n",
    "\n",
    "    S28=[\"S28\",-152.172,95.835]\n",
    "    S27=[\"S27\",-152.172,31.945]\n",
    "    S26=[\"S26\",-152.172,-31.945]\n",
    "    S25=[\"S25\",-152.172,-95.835]\n",
    "\n",
    "    S31=[\"S31\",-185.988,63.890]\n",
    "    S30=[\"S30\",-185.988,0.]\n",
    "    S29=[\"S29\",-185.988,-63.890]\n",
    "\n",
    "    # order of chips when using numeric label\n",
    "    ccdid = [S29,S30,S31,S25,S26,S27,S28,S20,S21,S22,S23,S24,S14,S15,S16,S17,S18,S19,S8,S9,S10,S11,S12,S13,S1,S2,S3,S4,S5,S6,S7,N1,N2,N3,N4,N5,N6,N7,N8,N9,N10,N11,N12,N13,N14,N15,N16,N17,N18,N19,N20,N21,N22,N23,N24,N25,N26,N27,N28,N29,N30,N31]\n",
    "\n",
    "    # defines the size of a chip in mm.  One pixel=15 microns\n",
    "    xsize=2048*15e-6*1000\n",
    "    ysize=4096*15e-6*1000\n",
    "\n",
    "    # xc, yc are the (x,y) position of the lower left corner of each chip\n",
    "    xc = numpy.empty(len(ccdid)+1)\n",
    "    yc = numpy.empty(len(ccdid)+1)\n",
    "    for i,ext in enumerate(ccdid):\n",
    "        xc[i+1] = ext[1]-xsize/2\n",
    "        yc[i+1] = ext[2]-ysize/2\n",
    "    return xc, yc\n",
    "    "
   ]
  },
  {
   "cell_type": "code",
   "execution_count": 4,
   "metadata": {},
   "outputs": [],
   "source": [
    "def plotCCD2D(filename, field, title, cmap_name):\n",
    "    import matplotlib\n",
    "    import matplotlib.pyplot as plt\n",
    "    from matplotlib.collections import PatchCollection\n",
    "    from matplotlib.patches import Rectangle\n",
    "    import numpy as np\n",
    "    import fitsio\n",
    "    %matplotlib inline\n",
    "\n",
    "    xsize=2048*15e-6*1000\n",
    "    ysize=4096*15e-6*1000\n",
    "    \n",
    "    BAD_CCDS = [2, 31, 61]\n",
    "\n",
    "    data = fitsio.read(filename)\n",
    "    data = data.astype(data.dtype.newbyteorder('='))\n",
    "    mask = ~np.in1d(data['ccdnum'], BAD_CCDS)\n",
    "    data = data[mask]\n",
    "    absmrhop2 =   np.array([ abs(x) for x in data[field]])\n",
    "    ccdpatches = []    #k =0\n",
    "    \n",
    "    xc,yc = ccd_llcoordinates()\n",
    "    for x1,y1, k in zip(xc, yc,  list(range(0, 63))):\n",
    "        #print(k, x1, y1)\n",
    "        if (k in BAD_CCDS):\n",
    "            continue\n",
    "        else:\n",
    "            rect = Rectangle((x1, y1), xsize, ysize)\n",
    "            ccdpatches.append(rect)\n",
    "            \n",
    "    fig, ax = plt.subplots(figsize=(10,6))\n",
    "\n",
    "    ax.set_xlim([-220, 220])\n",
    "    ax.set_ylim([-260, 260])\n",
    "    p = PatchCollection(ccdpatches, cmap=cmap_name,  norm=matplotlib.colors.LogNorm())\n",
    "    p.set_array(absmrhop2)\n",
    "    ax.add_collection(p)\n",
    "    plt.colorbar(p)\n",
    "    plt.title(title)"
   ]
  },
  {
   "cell_type": "code",
   "execution_count": 5,
   "metadata": {},
   "outputs": [],
   "source": [
    "from ipywidgets import interact, interactive, fixed, interact_manual\n",
    "import ipywidgets as widgets\n",
    "from IPython.display import display\n",
    "import warnings\n",
    "warnings.simplefilter(action='ignore', category=FutureWarning)\n",
    "import numpy as np"
   ]
  },
  {
   "cell_type": "code",
   "execution_count": 6,
   "metadata": {
    "slideshow": {
     "slide_type": "-"
    }
   },
   "outputs": [],
   "source": [
    "filenames=['rho2pbyzones.fits', 'rho2pbyexposure.fits']\n",
    "cmaps=['gnuplot','seismic','Greys','tab20','tab20b','tab20c', 'ocean']\n",
    "fields=['mrho2p','musestars','mtotalstars']\n",
    "columns =  ['airmass',  'dimmseeing',  'dT', 'fwhm', 'humidity', 'msurtemp',  'outtemp', 'sat',  'sigsky',  \n",
    "           'sky',  'teldec', 'telha',  'telra',  'tiling',  'mtotalstars',  'musestars' ,  'winddir',  'windspd' ]\n",
    "units =  [' ', ' [arcsec]', ' [Celcius]', ' ',  ' [%]', ' [Celsius]', ' [Celsius]', ' ', ' ', ' ', \n",
    "          ' [deg]', '  [deg]',' [deg]', ' ', ' ',  '  ', ' [deg]',  ' [m/s]'   ]\n",
    "xtitles= np.core.defchararray.add(np.array(columns),np.array(units))"
   ]
  },
  {
   "cell_type": "code",
   "execution_count": 7,
   "metadata": {},
   "outputs": [],
   "source": [
    "wfilename = widgets.Dropdown(description='filename', options=filenames)\n",
    "wmarkersize = widgets.IntSlider(value=100, min=5,max = 105,step=20)\n",
    "markervalues=[100,5]\n",
    "titles=['BY ZONE', 'BY EXPOSURE']\n",
    "wtitles = widgets.Dropdown(description='titles', options=titles)\n",
    "#wtitles.layout.visibility = 'hidden'\n",
    "wtitles.layout.display = 'none'\n",
    "def changemarkersize(change):\n",
    "    wmarkersize.value=  markervalues[wfilename.index]\n",
    "    wtitles.value=  titles[wfilename.index]\n",
    "wfilename.observe(changemarkersize, names='value')"
   ]
  },
  {
   "cell_type": "markdown",
   "metadata": {},
   "source": [
    "2D Color map on the DES footprint. Each field defines a different array of values for the color bar. If the shape of the zone is an hexagon means that the mean value of the field was negative, and we took the absolute value to plot properly a log-scale"
   ]
  },
  {
   "cell_type": "code",
   "execution_count": 8,
   "metadata": {},
   "outputs": [
    {
     "data": {
      "application/vnd.jupyter.widget-view+json": {
       "model_id": "ba98fdfd6e4e4155882f2d26ed5be066",
       "version_major": 2,
       "version_minor": 0
      },
      "text/plain": [
       "interactive(children=(Dropdown(description='filename', options=('rho2pbyzones.fits', 'rho2pbyexposure.fits'), …"
      ]
     },
     "metadata": {},
     "output_type": "display_data"
    }
   ],
   "source": [
    "g = interactive(plotRaDec2D, filename=wfilename, field =fields, title=wtitles,cmap_name=cmaps,markersize=wmarkersize )\n",
    "display(g)"
   ]
  },
  {
   "cell_type": "code",
   "execution_count": 9,
   "metadata": {},
   "outputs": [],
   "source": [
    "wfilename2 = widgets.Dropdown(description='filename', options=filenames)\n",
    "wtitles2 = widgets.Dropdown(description='titles', options=titles)\n",
    "#wtitles.layout.visibility = 'hidden'\n",
    "wtitles2.layout.display = 'none'\n",
    "def changetitle(change):\n",
    "    wtitles2.value=  titles[wfilename2.index]\n",
    "wfilename2.observe(changetitle, names='value')\n",
    "\n",
    "wfields = widgets.Dropdown(description='fields', options=columns)\n",
    "wxtitles = widgets.Dropdown(description='xtitles',options= xtitles)\n",
    "def on_value_change(change):\n",
    "    wxtitles.value=  xtitles[wfields.index]\n",
    "    wtitles2.value=  titles[wfilename2.index]\n",
    "wfields.observe(on_value_change, names='value')\n",
    "#wxtitles.layout.visibility = 'hidden'\n",
    "wxtitles.layout.display = 'none'"
   ]
  },
  {
   "cell_type": "code",
   "execution_count": 10,
   "metadata": {},
   "outputs": [
    {
     "data": {
      "application/vnd.jupyter.widget-view+json": {
       "model_id": "db252856af604146b3d96ba4fb636bbf",
       "version_major": 2,
       "version_minor": 0
      },
      "text/plain": [
       "interactive(children=(Dropdown(description='filename', options=('rho2pbyzones.fits', 'rho2pbyexposure.fits'), …"
      ]
     },
     "metadata": {},
     "output_type": "display_data"
    }
   ],
   "source": [
    "w=interactive(plotScatter, filename=wfilename2, field =wfields, xtitle=wxtitles ,ytitle=fixed('rho2p'), title=wtitles2,\n",
    "         xlog=False ,ylog=True, grid=True )\n",
    "\n",
    "display(w)"
   ]
  },
  {
   "cell_type": "code",
   "execution_count": 11,
   "metadata": {},
   "outputs": [
    {
     "data": {
      "application/vnd.jupyter.widget-view+json": {
       "model_id": "ec90f764b808401ab2706fcef97effc5",
       "version_major": 2,
       "version_minor": 0
      },
      "text/plain": [
       "interactive(children=(Dropdown(description='filename', options=('rho2pbyccd_allzones.fits', 'rho2pbyccd_zone80…"
      ]
     },
     "metadata": {},
     "output_type": "display_data"
    }
   ],
   "source": [
    "filenames3 = ['rho2pbyccd_allzones.fits', 'rho2pbyccd_zone80.fits']\n",
    "z=interactive(plotCCD2D, filename=filenames3, field=fixed('mrho2p'), title=fixed('Focal plane'), cmap_name = cmaps)\n",
    "\n",
    "display(z)"
   ]
  }
 ],
 "metadata": {
  "kernelspec": {
   "display_name": "Python 3",
   "language": "python",
   "name": "python3"
  },
  "language_info": {
   "codemirror_mode": {
    "name": "ipython",
    "version": 3
   },
   "file_extension": ".py",
   "mimetype": "text/x-python",
   "name": "python",
   "nbconvert_exporter": "python",
   "pygments_lexer": "ipython3",
   "version": "3.6.6"
  }
 },
 "nbformat": 4,
 "nbformat_minor": 2
}
