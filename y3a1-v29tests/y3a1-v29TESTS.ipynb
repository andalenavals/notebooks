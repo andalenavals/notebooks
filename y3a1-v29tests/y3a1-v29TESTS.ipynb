{
 "cells": [
  {
   "cell_type": "markdown",
   "metadata": {},
   "source": [
    "# Y3-A1-v29 TESTS"
   ]
  },
  {
   "cell_type": "code",
   "execution_count": 24,
   "metadata": {},
   "outputs": [],
   "source": [
    "def plotRaDec2D(filename, field, title, cmap_name, markersize, colorlog): \n",
    "    import fitsio\n",
    "    import matplotlib\n",
    "    import matplotlib.pyplot as plt\n",
    "    from astropy.coordinates import SkyCoord\n",
    "    from astropy import units\n",
    "    import numpy as np\n",
    "    from matplotlib.colors import LogNorm\n",
    "    %matplotlib inline\n",
    "    \n",
    "    data = fitsio.read(filename)\n",
    "    data = data.astype(data.dtype.newbyteorder('='))\n",
    "    \n",
    "    data1 = data[data[field]>0]\n",
    "    coords = SkyCoord(ra=data1['telra'], dec=data1['teldec'], unit='degree')\n",
    "    ra = coords.ra.wrap_at(180 * units.deg)\n",
    "    #ra = coords.ra.radian\n",
    "    dec = coords.dec\n",
    "    rho2p = data1[field]\n",
    "\n",
    "    data2 = data[data[field]<0]\n",
    "    coords2 = SkyCoord(ra=data2['telra'], dec=data2['teldec'], unit='degree')\n",
    "    ra2 = coords2.ra.wrap_at(180 * units.deg)\n",
    "    #ra = coords.ra.radian\n",
    "    dec2 = coords2.dec \n",
    "    mdatan = [ -x for x in data2[field]]\n",
    "\n",
    "    fig = plt.figure(figsize=(10,6))\n",
    "    \n",
    "    if(colorlog):\n",
    "        sct = plt.scatter(ra, dec, s=markersize, marker='s' , cmap=cmap_name, c=rho2p, \n",
    "                      norm=LogNorm( vmin=np.nanmin(rho2p), vmax=np.nanmax(rho2p))  )\n",
    "        plt.scatter(ra2, dec2, s=markersize, marker='p' , cmap=cmap_name, c=mdatan, \n",
    "                norm=LogNorm( vmin=np.nanmin(rho2p), vmax=np.nanmax(rho2p))   )\n",
    "    else:\n",
    "        sct = plt.scatter(ra, dec, s=markersize, marker='s' , cmap=cmap_name, c=rho2p )\n",
    "        plt.scatter(ra2, dec2, s=markersize, marker='p' , cmap=cmap_name, c=mdatan)\n",
    "\n",
    "    plt.colorbar(sct)\n",
    "    plt.xlabel('R.A')\n",
    "    plt.ylabel('DEC')\n",
    "    plt.title(title)\n",
    "    plt.show()"
   ]
  },
  {
   "cell_type": "code",
   "execution_count": 25,
   "metadata": {},
   "outputs": [],
   "source": [
    "def plotScatterRho(filename, field, xtitle, ytitle, title, xlog=False, ylog=True, grid=True, savefig=False):\n",
    "    import fitsio\n",
    "    import matplotlib \n",
    "    import matplotlib.pyplot as plt\n",
    "    from astropy.coordinates import SkyCoord\n",
    "    from astropy import units\n",
    "    import numpy as np\n",
    "    %matplotlib inline\n",
    "\n",
    "    data = fitsio.read(filename)\n",
    "    data = data.astype(data.dtype.newbyteorder('='))\n",
    "    \n",
    "    ignore =  (data[field] ==-999.) |  (data[field] == None) | ( np.isnan(data[field])) \n",
    "    data = data[~ignore]\n",
    "    datap = data[(data['mrho2p']>0)]\n",
    "    datan = data[(data['mrho2p']<0)]\n",
    "    mdatan = [ -x for x in datan['mrho2p']]\n",
    "\n",
    "    plt.figure(figsize=(10,6))\n",
    "    plt.plot( datap[field] , datap['mrho2p'] , color='blue', marker= 'o',  markersize=5,  linewidth=0 )\n",
    "    plt.plot( datan[field] , mdatan  , color='black', marker= 'o',  markersize=5,  linewidth=0 )\n",
    "\n",
    "    if(ylog):\n",
    "        plt.yscale('log')\n",
    "    if(xlog):\n",
    "        plt.xscale('log')\n",
    "    if(grid): \n",
    "        plt.grid()\n",
    "    plt.xlabel(xtitle)\n",
    "    plt.ylabel(ytitle)\n",
    "    plt.title(title)\n",
    "    if(savefig):\n",
    "        plt.savefig('mrho2p'+'_vs_'+field +'__'+filename[:-5]+'.pdf', dpi=150)"
   ]
  },
  {
   "cell_type": "code",
   "execution_count": 26,
   "metadata": {},
   "outputs": [],
   "source": [
    "def plotScatter(filename, xfield, yfield, xtitle, ytitle, title, xlog=False, ylog=False, grid=True, savefig=False):\n",
    "    import fitsio\n",
    "    import matplotlib \n",
    "    import matplotlib.pyplot as plt\n",
    "    from astropy.coordinates import SkyCoord\n",
    "    from astropy import units\n",
    "    import numpy as np\n",
    "    %matplotlib inline\n",
    "\n",
    "    data = fitsio.read(filename)\n",
    "    data = data.astype(data.dtype.newbyteorder('='))\n",
    "    \n",
    "    ignorex =  (data[xfield] ==-999.) |  (data[xfield] == None) | ( np.isnan(data[xfield])) \n",
    "    data = data[~ignorex]\n",
    "    ignorey =  (data[yfield] ==-999.) |  (data[yfield] == None) | ( np.isnan(data[yfield])) \n",
    "    data = data[~ignorey]\n",
    " \n",
    "\n",
    "    plt.figure(figsize=(10,6))\n",
    "    plt.plot( data[xfield] , data[yfield] , color='blue', marker= 'o',  markersize=5,  linewidth=0 )\n",
    "\n",
    "    if(ylog):\n",
    "        plt.yscale('log')\n",
    "    if(xlog):\n",
    "        plt.xscale('log')\n",
    "    if(grid): \n",
    "        plt.grid()\n",
    "    plt.xlabel(xtitle)\n",
    "    plt.ylabel(ytitle)\n",
    "    plt.title(title)\n",
    "    if(savefig):\n",
    "        plt.savefig(yfield+'_vs_'+xfield +'__'+filename[:-5]+'.pdf', dpi=150)   "
   ]
  },
  {
   "cell_type": "code",
   "execution_count": 27,
   "metadata": {},
   "outputs": [],
   "source": [
    "def ccd_llcoordinates():\n",
    "    import numpy\n",
    "\n",
    "    # Centers of chips in focal plane coordinates\n",
    "    N7=[\"N7\",16.908,191.670]\n",
    "    N6=[\"N6\",16.908,127.780]\n",
    "    N5=[\"N5\",16.908,63.890]\n",
    "    N4=[\"N4\",16.908,0.]\n",
    "    N3=[\"N3\",16.908,-63.890]\n",
    "    N2=[\"N2\",16.908,-127.780]\n",
    "    N1=[\"N1\",16.908,-191.670]\n",
    "\n",
    "    N13=[\"N13\",50.724,159.725]\n",
    "    N12=[\"N12\",50.724,95.835]\n",
    "    N11=[\"N11\",50.724,31.945]\n",
    "    N10=[\"N10\",50.724,-31.945]\n",
    "    N9=[\"N9\",50.724,-95.835]\n",
    "    N8=[\"N8\",50.724,-159.725]\n",
    "\n",
    "    N19=[\"N19\",84.540,159.725]\n",
    "    N18=[\"N18\",84.540,95.835]\n",
    "    N17=[\"N17\",84.540,31.945]\n",
    "    N16=[\"N16\",84.540,-31.945]\n",
    "    N15=[\"N15\",84.540,-95.835]\n",
    "    N14=[\"N14\",84.540,-159.725]\n",
    "\n",
    "    N24=[\"N24\",118.356,127.780]\n",
    "    N23=[\"N23\",118.356,63.890]\n",
    "    N22=[\"N22\",118.356,0.]\n",
    "    N21=[\"N21\",118.356,-63.890]\n",
    "    N20=[\"N20\",118.356,-127.780]\n",
    "\n",
    "    N28=[\"N28\",152.172,95.835]\n",
    "    N27=[\"N27\",152.172,31.945]\n",
    "    N26=[\"N26\",152.172,-31.945]\n",
    "    N25=[\"N25\",152.172,-95.835]\n",
    "\n",
    "    N31=[\"N31\",185.988,63.890]\n",
    "    N30=[\"N30\",185.988,0.]\n",
    "    N29=[\"N29\",185.988,-63.890]\n",
    "\n",
    "    S7=[\"S7\",-16.908,191.670]\n",
    "    S6=[\"S6\",-16.908,127.780]\n",
    "    S5=[\"S5\",-16.908,63.890]\n",
    "    S4=[\"S4\",-16.908,0.]\n",
    "    S3=[\"S3\",-16.908,-63.890]\n",
    "    S2=[\"S2\",-16.908,-127.780]\n",
    "    S1=[\"S1\",-16.908,-191.670]\n",
    "\n",
    "    S13=[\"S13\",-50.724,159.725]\n",
    "    S12=[\"S12\",-50.724,95.835]\n",
    "    S11=[\"S11\",-50.724,31.945]\n",
    "    S10=[\"S10\",-50.724,-31.945]\n",
    "    S9=[\"S9\",-50.724,-95.835]\n",
    "    S8=[\"S8\",-50.724,-159.725]\n",
    "\n",
    "    S19=[\"S19\",-84.540,159.725]\n",
    "    S18=[\"S18\",-84.540,95.835]\n",
    "    S17=[\"S17\",-84.540,31.945]\n",
    "    S16=[\"S16\",-84.540,-31.945]\n",
    "    S15=[\"S15\",-84.540,-95.835]\n",
    "    S14=[\"S14\",-84.540,-159.725]\n",
    "\n",
    "    S24=[\"S24\",-118.356,127.780]\n",
    "    S23=[\"S23\",-118.356,63.890]\n",
    "    S22=[\"S22\",-118.356,0.]\n",
    "    S21=[\"S21\",-118.356,-63.890]\n",
    "    S20=[\"S20\",-118.356,-127.780]\n",
    "\n",
    "    S28=[\"S28\",-152.172,95.835]\n",
    "    S27=[\"S27\",-152.172,31.945]\n",
    "    S26=[\"S26\",-152.172,-31.945]\n",
    "    S25=[\"S25\",-152.172,-95.835]\n",
    "\n",
    "    S31=[\"S31\",-185.988,63.890]\n",
    "    S30=[\"S30\",-185.988,0.]\n",
    "    S29=[\"S29\",-185.988,-63.890]\n",
    "\n",
    "    # order of chips when using numeric label\n",
    "    ccdid = [S29,S30,S31,S25,S26,S27,S28,S20,S21,S22,S23,S24,S14,S15,S16,S17,S18,S19,S8,S9,S10,S11,S12,S13,S1,S2,S3,S4,S5,S6,S7,N1,N2,N3,N4,N5,N6,N7,N8,N9,N10,N11,N12,N13,N14,N15,N16,N17,N18,N19,N20,N21,N22,N23,N24,N25,N26,N27,N28,N29,N30,N31]\n",
    "\n",
    "    # defines the size of a chip in mm.  One pixel=15 microns\n",
    "    xsize=2048*15e-6*1000\n",
    "    ysize=4096*15e-6*1000\n",
    "\n",
    "    # xc, yc are the (x,y) position of the lower left corner of each chip\n",
    "    xc = numpy.empty(len(ccdid)+1)\n",
    "    yc = numpy.empty(len(ccdid)+1)\n",
    "    for i,ext in enumerate(ccdid):\n",
    "        xc[i+1] = ext[1]-xsize/2\n",
    "        yc[i+1] = ext[2]-ysize/2\n",
    "    return xc, yc\n",
    "    "
   ]
  },
  {
   "cell_type": "code",
   "execution_count": 28,
   "metadata": {},
   "outputs": [],
   "source": [
    "def plotCCD2D(filename, field, title, cmap_name):\n",
    "    import matplotlib\n",
    "    import matplotlib.pyplot as plt\n",
    "    from matplotlib.collections import PatchCollection\n",
    "    from matplotlib.patches import Rectangle\n",
    "    import numpy as np\n",
    "    import fitsio\n",
    "    %matplotlib inline\n",
    "\n",
    "    xsize=2048*15e-6*1000\n",
    "    ysize=4096*15e-6*1000\n",
    "    \n",
    "    BAD_CCDS = [2, 31, 61]\n",
    "\n",
    "    data = fitsio.read(filename)\n",
    "    data = data.astype(data.dtype.newbyteorder('='))\n",
    "    mask = ~np.in1d(data['ccdnum'], BAD_CCDS)\n",
    "    data = data[mask]\n",
    "    absmrhop2 =   np.array([ abs(x) for x in data[field]])\n",
    "    ccdpatches = []    #k =0\n",
    "    \n",
    "    xc,yc = ccd_llcoordinates()\n",
    "    for x1,y1, k in zip(xc, yc,  list(range(0, 63))):\n",
    "        #print(k, x1, y1)\n",
    "        if (k in BAD_CCDS):\n",
    "            continue\n",
    "        else:\n",
    "            rect = Rectangle((x1, y1), xsize, ysize)\n",
    "            ccdpatches.append(rect)\n",
    "            \n",
    "    fig, ax = plt.subplots(figsize=(10,6))\n",
    "\n",
    "    ax.set_xlim([-220, 220])\n",
    "    ax.set_ylim([-260, 260])\n",
    "    p = PatchCollection(ccdpatches, cmap=cmap_name,  norm=matplotlib.colors.LogNorm())\n",
    "    p.set_array(absmrhop2)\n",
    "    ax.add_collection(p)\n",
    "    plt.colorbar(p)\n",
    "    plt.title(title)"
   ]
  },
  {
   "cell_type": "markdown",
   "metadata": {},
   "source": [
    "2D Color map on the DES footprint. Each field defines a different array of values for the color bar. If the shape of the zone is an hexagon means that the mean value of the field was negative, and we took the absolute value to plot properly a log-scale"
   ]
  },
  {
   "cell_type": "code",
   "execution_count": 29,
   "metadata": {},
   "outputs": [],
   "source": [
    "from ipywidgets import interact, interactive, fixed, interact_manual\n",
    "import ipywidgets as widgets\n",
    "from IPython.display import display\n",
    "import warnings\n",
    "warnings.simplefilter(action='ignore', category=FutureWarning)\n",
    "import numpy as np"
   ]
  },
  {
   "cell_type": "code",
   "execution_count": 30,
   "metadata": {
    "slideshow": {
     "slide_type": "-"
    }
   },
   "outputs": [],
   "source": [
    "filenames=['rho2pbyzones.fits', 'rho2pbyexposure.fits']\n",
    "cmaps=['gnuplot','seismic','Greys','tab20','tab20b','tab20c', 'ocean']\n",
    "columns =  ['mrho2p','airmass',  'dimmseeing',  'dT', 'fwhm', 'humidity', 'msurtemp',  'outtemp', 'sat',  'sigsky',  \n",
    "           'sky',  'teldec', 'telha',  'telra',  'tiling',  'mtotalstars',  'musestars' ,  'winddir',  'windspd',\n",
    "            'mean_obs_e1', 'mean_obs_e2', 'mean_obs_e', 'mean_obs_epw2', 'mean_piff_e1','mean_piff_e2', \n",
    "            'mean_piff_e', 'mean_piff_epw2', 'mean_de1',  'mean_de2', 'mean_de','mean_depw2']\n",
    "units =  ['',' ', ' [arcsec]', ' [Celcius]', ' ',  ' [%]', ' [Celsius]', ' [Celsius]', ' ', ' ', ' ', \n",
    "          ' [deg]', '  [deg]',' [deg]', ' ', ' ',  '  ', ' [deg]',  ' [m/s]', ' ', ' ', ' ', ' ', ' ', ' ', ' ', \n",
    "          ' ', ' ',  ' ', ' ', ''  ]\n",
    "xtitles= np.core.defchararray.add(np.array(columns),np.array(units))"
   ]
  },
  {
   "cell_type": "code",
   "execution_count": 31,
   "metadata": {},
   "outputs": [
    {
     "data": {
      "application/vnd.jupyter.widget-view+json": {
       "model_id": "7ccce29765f540119e80d4ca9dd59355",
       "version_major": 2,
       "version_minor": 0
      },
      "text/plain": [
       "interactive(children=(Dropdown(description='filename', options=('rho2pbyzones.fits', 'rho2pbyexposure.fits'), …"
      ]
     },
     "metadata": {},
     "output_type": "display_data"
    }
   ],
   "source": [
    "wfilename = widgets.Dropdown(description='filename', options=filenames)\n",
    "#fields=['mrho2p','musestars','mtotalstars']\n",
    "titles=['BY ZONE', 'BY EXPOSURE']\n",
    "wtitles = widgets.Dropdown(description='titles', options=titles)\n",
    "wmarkersize = widgets.IntSlider(value=100, min=5,max = 105,step=20)\n",
    "markervalues=[100,5]\n",
    "#wtitles.layout.visibility = 'hidden'\n",
    "wtitles.layout.display = 'none'\n",
    "def changemarkersize(change):\n",
    "    wmarkersize.value=  markervalues[wfilename.index]\n",
    "    wtitles.value=  titles[wfilename.index]\n",
    "wfilename.observe(changemarkersize, names='value')\n",
    "g = interactive(plotRaDec2D, filename=wfilename, field = columns, title=wtitles,\n",
    "                cmap_name=cmaps,markersize=wmarkersize, colorlog=True )\n",
    "display(g)"
   ]
  },
  {
   "cell_type": "code",
   "execution_count": 32,
   "metadata": {},
   "outputs": [
    {
     "data": {
      "application/vnd.jupyter.widget-view+json": {
       "model_id": "19744833099c4ac0a8760c9ab74c024f",
       "version_major": 2,
       "version_minor": 0
      },
      "text/plain": [
       "interactive(children=(Dropdown(description='filename', options=('rho2pbyccd_allzones.fits', 'rho2pbyccd_zone80…"
      ]
     },
     "metadata": {},
     "output_type": "display_data"
    }
   ],
   "source": [
    "filenames2 = ['rho2pbyccd_allzones.fits', 'rho2pbyccd_zone80.fits']\n",
    "columnsccd =  ['mrho2p','mean_obs_e1', 'mean_obs_e2', 'mean_obs_e', 'mean_obs_epw2', 'mean_piff_e1','mean_piff_e2', \n",
    "            'mean_piff_e', 'mean_piff_epw2', 'mean_de1',  'mean_de2', 'mean_de','mean_depw2']\n",
    "z=interactive(plotCCD2D, filename=filenames2, field=columnsccd, title=fixed('Focal plane'), cmap_name = cmaps)\n",
    "display(z)"
   ]
  },
  {
   "cell_type": "code",
   "execution_count": 33,
   "metadata": {
    "scrolled": false
   },
   "outputs": [
    {
     "data": {
      "application/vnd.jupyter.widget-view+json": {
       "model_id": "8f375b5831d240b8b3f4c0cf1f394693",
       "version_major": 2,
       "version_minor": 0
      },
      "text/plain": [
       "interactive(children=(Dropdown(description='filename', options=('rho2pbyzones.fits', 'rho2pbyexposure.fits'), …"
      ]
     },
     "metadata": {},
     "output_type": "display_data"
    }
   ],
   "source": [
    "wfilename3 = widgets.Dropdown(description='filename', options=filenames)\n",
    "wtitles3 = widgets.Dropdown(description='titles', options=titles)\n",
    "def changetitle(change):\n",
    "    wtitles3.value=  titles[wfilename3.index]\n",
    "wfilename3.observe(changetitle, names='value')\n",
    "wtitles3.layout.display = 'none'\n",
    "\n",
    "wfields3 = widgets.Dropdown(description='fields', options=columns)\n",
    "wxtitles3 = widgets.Dropdown(description='xtitles',options= xtitles)\n",
    "def on_value_change(change):\n",
    "    wxtitles3.value=  xtitles[wfields3.index]\n",
    "wfields3.observe(on_value_change, names='value')\n",
    "wxtitles3.layout.display = 'none'\n",
    "\n",
    "wsavebool3 =widgets.ToggleButton(\n",
    "    value=False,\n",
    "    description='Savefig',\n",
    "    disabled=False,\n",
    "    button_style='success', # 'success', 'info', 'warning', 'danger' or ''\n",
    "    tooltip='Description',\n",
    "    icon='check'\n",
    ")\n",
    "\n",
    "w=interactive(plotScatterRho, filename=wfilename3, field =wfields3, xtitle=wxtitles3 ,ytitle=fixed('mrho2p')\n",
    "              , title=wtitles3, xlog=False ,ylog=True, grid=True, savefig=wsavebool3 )\n",
    "\n",
    "display(w)"
   ]
  },
  {
   "cell_type": "code",
   "execution_count": 34,
   "metadata": {
    "scrolled": false
   },
   "outputs": [
    {
     "data": {
      "application/vnd.jupyter.widget-view+json": {
       "model_id": "679edf5945b54604932350dcd904a390",
       "version_major": 2,
       "version_minor": 0
      },
      "text/plain": [
       "interactive(children=(Dropdown(description='filename', options=('rho2pbyzones.fits', 'rho2pbyexposure.fits'), …"
      ]
     },
     "metadata": {},
     "output_type": "display_data"
    }
   ],
   "source": [
    "wfilename4 = widgets.Dropdown(description='filename', options=filenames)\n",
    "wtitles4 = widgets.Dropdown(description='titles', options=titles)\n",
    "wtitles4.layout.display = 'none'\n",
    "def changetitle(change):\n",
    "    wtitles4.value=  titles[wfilename4.index]\n",
    "wfilename4.observe(changetitle, names='value')\n",
    "\n",
    "wyfields4 = widgets.Dropdown(description='y-field', options=columns)\n",
    "wytitles4 = widgets.Dropdown(description='y-title',options= xtitles)\n",
    "def on_value_changey(change):\n",
    "    wytitles4.value=  xtitles[wyfields4.index]\n",
    "wyfields4.observe(on_value_changey, names='value')\n",
    "wytitles4.layout.display = 'none'\n",
    "\n",
    "wxfields4 = widgets.Dropdown(description='x-field', options=columns)\n",
    "wxtitles4 = widgets.Dropdown(description='x-title',options= xtitles)\n",
    "def on_value_changex(change):\n",
    "    wxtitles4.value=  xtitles[wxfields4.index]\n",
    "wxfields4.observe(on_value_changex, names='value')\n",
    "wxtitles4.layout.display = 'none'\n",
    "\n",
    "wsavebool4 =widgets.ToggleButton(\n",
    "    value=False,\n",
    "    description='Savefig',\n",
    "    disabled=False,\n",
    "    button_style='success', # 'success', 'info', 'warning', 'danger' or ''\n",
    "    tooltip='Description',\n",
    "    icon='check'\n",
    ")\n",
    "\n",
    "w4=interactive(plotScatter, filename=wfilename4, xfield =wxfields4, yfield =wyfields4, xtitle=wxtitles4 ,\n",
    "               ytitle=wytitles4, title=wtitles4, xlog=False ,ylog=False, grid=True, savefig= wsavebool4 )\n",
    "display(w4)"
   ]
  },
  {
   "cell_type": "code",
   "execution_count": null,
   "metadata": {},
   "outputs": [],
   "source": [
    "    "
   ]
  }
 ],
 "metadata": {
  "kernelspec": {
   "display_name": "Python 3",
   "language": "python",
   "name": "python3"
  },
  "language_info": {
   "codemirror_mode": {
    "name": "ipython",
    "version": 3
   },
   "file_extension": ".py",
   "mimetype": "text/x-python",
   "name": "python",
   "nbconvert_exporter": "python",
   "pygments_lexer": "ipython3",
   "version": "3.7.0"
  }
 },
 "nbformat": 4,
 "nbformat_minor": 2
}
